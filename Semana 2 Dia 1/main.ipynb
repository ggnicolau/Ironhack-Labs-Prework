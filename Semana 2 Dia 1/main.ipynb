{
 "cells": [
  {
   "cell_type": "markdown",
   "metadata": {
    "colab_type": "text",
    "id": "mN9kpE7hMEP-"
   },
   "source": [
    "![Ironhack logo](https://i.imgur.com/1QgrNNw.png)\n",
    "\n",
    "# Lab | Numpy\n",
    "\n",
    "## Introduction\n",
    "\n",
    "An important ability of a data scientist/data engineer is to know where and how to find information that helps you to accomplish your work. In the exercise, you will both practice the Numpy features we discussed in the lesson and learn new features by looking up documentations and references. You will work on your own but remember the teaching staff is at your service whenever you encounter problems.\n",
    "\n",
    "## Getting Started\n",
    "There are a bunch of comments which instruct what you are supposed to do step by step. Follow the order of the instructions from top to bottom. Read each instruction carefully and provide your answer beneath it. You should also test your answers to make sure your responses are correct. If one of your responses is incorrect, you may not be able to proceed because later responses may depend upon previous responses.\n",
    "\n",
    "\n",
    "## Resources\n",
    "\n",
    "Some of the questions in the assignment are not covered in our lesson. You will learn how to efficiently look up the information on your own. Below are some resources you can find the information you need.\n",
    "\n",
    "[Numpy User Guide](https://docs.scipy.org/doc/numpy/user/index.html)\n",
    "\n",
    "[Numpy Reference](https://docs.scipy.org/doc/numpy/reference/)\n",
    "\n",
    "[Google Search](https://www.google.com/search?q=how+to+use+numpy)\n",
    "\n"
   ]
  },
  {
   "cell_type": "markdown",
   "metadata": {
    "colab_type": "text",
    "id": "-we_8UVrwCc1"
   },
   "source": [
    "# Intrduction to NumPy\n",
    "\n",
    "\n",
    "#### 1. Import NumPy under the name np."
   ]
  },
  {
   "cell_type": "code",
   "execution_count": 1,
   "metadata": {
    "ExecuteTime": {
     "end_time": "2021-03-30T12:47:33.746002Z",
     "start_time": "2021-03-30T12:47:33.530543Z"
    },
    "colab": {},
    "colab_type": "code",
    "id": "3fRJ8mtHwCc5"
   },
   "outputs": [],
   "source": [
    "import numpy as np"
   ]
  },
  {
   "cell_type": "markdown",
   "metadata": {
    "colab_type": "text",
    "id": "8Xtbl_EvwCc9"
   },
   "source": [
    "#### 2. Print your NumPy version."
   ]
  },
  {
   "cell_type": "code",
   "execution_count": 2,
   "metadata": {
    "ExecuteTime": {
     "end_time": "2021-03-30T12:47:33.753961Z",
     "start_time": "2021-03-30T12:47:33.746957Z"
    },
    "colab": {},
    "colab_type": "code",
    "id": "BlegxuJVwCc-"
   },
   "outputs": [
    {
     "data": {
      "text/plain": [
       "'1.19.2'"
      ]
     },
     "execution_count": 2,
     "metadata": {},
     "output_type": "execute_result"
    }
   ],
   "source": [
    "np.__version__"
   ]
  },
  {
   "cell_type": "markdown",
   "metadata": {
    "colab_type": "text",
    "id": "FpKgyatowCdC"
   },
   "source": [
    "#### 3. Generate a 3x2x5 3-dimensional array with random values. Assign the array to variable *a*.\n",
    "**Challenge**: there are at least three easy ways that use numpy to generate random arrays. How many ways can you find?\n",
    "\n",
    "**Example of output**:\n",
    "````python\n",
    "[[[0.29932768, 0.85812686, 0.75266145, 0.09278988, 0.78358352],\n",
    "  [0.13437453, 0.65695946, 0.82047594, 0.09764179, 0.52230096]],\n",
    " \n",
    " [[0.54248247, 0.06431281, 0.65902257, 0.92736679, 0.3302839 ],\n",
    "  [0.86867236, 0.33960592, 0.62295821, 0.74563567, 0.24351584]],\n",
    " \n",
    " [[0.21276812, 0.06917533, 0.35106591, 0.82273425, 0.7910178 ],\n",
    "  [0.37768961, 0.56107736, 0.99965953, 0.97615549, 0.2445537 ]]]\n",
    "````"
   ]
  },
  {
   "cell_type": "code",
   "execution_count": 3,
   "metadata": {
    "ExecuteTime": {
     "end_time": "2021-03-30T12:47:33.759950Z",
     "start_time": "2021-03-30T12:47:33.754935Z"
    },
    "colab": {},
    "colab_type": "code",
    "id": "609Z4Zn3wCdD"
   },
   "outputs": [],
   "source": [
    "a = np.random.random((3,2,5))"
   ]
  },
  {
   "cell_type": "code",
   "execution_count": 4,
   "metadata": {
    "ExecuteTime": {
     "end_time": "2021-03-30T12:47:33.765930Z",
     "start_time": "2021-03-30T12:47:33.760919Z"
    },
    "colab": {},
    "colab_type": "code",
    "id": "q6dKJNO4wCdH"
   },
   "outputs": [
    {
     "data": {
      "text/plain": [
       "array([[[0.95401277, 0.99857349, 0.81861789, 0.3773142 , 0.80989962],\n",
       "        [0.64592301, 0.56029472, 0.22310302, 0.5354489 , 0.56717426]],\n",
       "\n",
       "       [[0.13695326, 0.95176825, 0.55050116, 0.79138235, 0.39584826],\n",
       "        [0.35130659, 0.20767382, 0.55682306, 0.49455945, 0.83136893]],\n",
       "\n",
       "       [[0.2628423 , 0.14639602, 0.99934696, 0.1199547 , 0.84186601],\n",
       "        [0.41321173, 0.89855835, 0.95156744, 0.48586061, 0.39932139]]])"
      ]
     },
     "execution_count": 4,
     "metadata": {},
     "output_type": "execute_result"
    }
   ],
   "source": [
    "a"
   ]
  },
  {
   "cell_type": "code",
   "execution_count": 5,
   "metadata": {
    "ExecuteTime": {
     "end_time": "2021-03-30T12:47:33.771891Z",
     "start_time": "2021-03-30T12:47:33.766903Z"
    },
    "colab": {},
    "colab_type": "code",
    "id": "xILn36GWwCdK"
   },
   "outputs": [],
   "source": [
    "# Method 3"
   ]
  },
  {
   "cell_type": "markdown",
   "metadata": {
    "colab_type": "text",
    "id": "aMHxBSCDwCdP"
   },
   "source": [
    "#### 4. Print *a*.\n"
   ]
  },
  {
   "cell_type": "code",
   "execution_count": 6,
   "metadata": {
    "ExecuteTime": {
     "end_time": "2021-03-30T12:47:33.780894Z",
     "start_time": "2021-03-30T12:47:33.772897Z"
    },
    "colab": {},
    "colab_type": "code",
    "id": "N_NYL3pHwCdQ"
   },
   "outputs": [
    {
     "name": "stdout",
     "output_type": "stream",
     "text": [
      "[[[0.95401277 0.99857349 0.81861789 0.3773142  0.80989962]\n",
      "  [0.64592301 0.56029472 0.22310302 0.5354489  0.56717426]]\n",
      "\n",
      " [[0.13695326 0.95176825 0.55050116 0.79138235 0.39584826]\n",
      "  [0.35130659 0.20767382 0.55682306 0.49455945 0.83136893]]\n",
      "\n",
      " [[0.2628423  0.14639602 0.99934696 0.1199547  0.84186601]\n",
      "  [0.41321173 0.89855835 0.95156744 0.48586061 0.39932139]]]\n"
     ]
    }
   ],
   "source": [
    "print(a)"
   ]
  },
  {
   "cell_type": "markdown",
   "metadata": {
    "colab_type": "text",
    "id": "kws-mAPSwCdU"
   },
   "source": [
    "#### 5. Create a 5x2x3 3-dimensional array with all values equaling 1. Assign the array to variable *b*."
   ]
  },
  {
   "cell_type": "markdown",
   "metadata": {
    "colab_type": "text",
    "id": "SMAUJKLwJS-8"
   },
   "source": [
    "Expected output:\n",
    "\n",
    "````python\n",
    "      [[[1, 1, 1],\n",
    "        [1, 1, 1]],\n",
    "\n",
    "       [[1, 1, 1],\n",
    "        [1, 1, 1]],\n",
    "\n",
    "       [[1, 1, 1],\n",
    "        [1, 1, 1]],\n",
    "\n",
    "       [[1, 1, 1],\n",
    "        [1, 1, 1]],\n",
    "\n",
    "       [[1, 1, 1],\n",
    "        [1, 1, 1]]]\n",
    "````"
   ]
  },
  {
   "cell_type": "code",
   "execution_count": 7,
   "metadata": {
    "ExecuteTime": {
     "end_time": "2021-03-30T12:47:33.786889Z",
     "start_time": "2021-03-30T12:47:33.781863Z"
    },
    "colab": {},
    "colab_type": "code",
    "id": "anCmbtrtwCdW"
   },
   "outputs": [
    {
     "data": {
      "text/plain": [
       "array([[[1, 1, 1],\n",
       "        [1, 1, 1]],\n",
       "\n",
       "       [[1, 1, 1],\n",
       "        [1, 1, 1]],\n",
       "\n",
       "       [[1, 1, 1],\n",
       "        [1, 1, 1]],\n",
       "\n",
       "       [[1, 1, 1],\n",
       "        [1, 1, 1]],\n",
       "\n",
       "       [[1, 1, 1],\n",
       "        [1, 1, 1]]])"
      ]
     },
     "execution_count": 7,
     "metadata": {},
     "output_type": "execute_result"
    }
   ],
   "source": [
    "b = np.random.randint(1,2, size=(5,2,3))\n",
    "b"
   ]
  },
  {
   "cell_type": "markdown",
   "metadata": {
    "colab_type": "text",
    "id": "FsYdwPxPwCdZ"
   },
   "source": [
    "#### 6. Print *b*.\n"
   ]
  },
  {
   "cell_type": "code",
   "execution_count": 8,
   "metadata": {
    "ExecuteTime": {
     "end_time": "2021-03-30T12:47:33.793855Z",
     "start_time": "2021-03-30T12:47:33.788845Z"
    },
    "colab": {},
    "colab_type": "code",
    "id": "Y3rcPurpwCda"
   },
   "outputs": [
    {
     "name": "stdout",
     "output_type": "stream",
     "text": [
      "[[[1 1 1]\n",
      "  [1 1 1]]\n",
      "\n",
      " [[1 1 1]\n",
      "  [1 1 1]]\n",
      "\n",
      " [[1 1 1]\n",
      "  [1 1 1]]\n",
      "\n",
      " [[1 1 1]\n",
      "  [1 1 1]]\n",
      "\n",
      " [[1 1 1]\n",
      "  [1 1 1]]]\n"
     ]
    }
   ],
   "source": [
    "print(b)"
   ]
  },
  {
   "cell_type": "markdown",
   "metadata": {
    "colab_type": "text",
    "id": "hGblsnk5wCde"
   },
   "source": [
    "#### 7. Do *a* and *b* have the same size? How do you prove that in Python code?"
   ]
  },
  {
   "cell_type": "code",
   "execution_count": 9,
   "metadata": {
    "ExecuteTime": {
     "end_time": "2021-03-30T12:47:33.799816Z",
     "start_time": "2021-03-30T12:47:33.794828Z"
    },
    "colab": {},
    "colab_type": "code",
    "id": "YmKeIpGWwCdf"
   },
   "outputs": [
    {
     "name": "stdout",
     "output_type": "stream",
     "text": [
      "[[[0.95401277 0.99857349 0.81861789 0.3773142  0.80989962]\n",
      "  [0.64592301 0.56029472 0.22310302 0.5354489  0.56717426]]\n",
      "\n",
      " [[0.13695326 0.95176825 0.55050116 0.79138235 0.39584826]\n",
      "  [0.35130659 0.20767382 0.55682306 0.49455945 0.83136893]]\n",
      "\n",
      " [[0.2628423  0.14639602 0.99934696 0.1199547  0.84186601]\n",
      "  [0.41321173 0.89855835 0.95156744 0.48586061 0.39932139]]]\n",
      "[[[1 1 1]\n",
      "  [1 1 1]]\n",
      "\n",
      " [[1 1 1]\n",
      "  [1 1 1]]\n",
      "\n",
      " [[1 1 1]\n",
      "  [1 1 1]]\n",
      "\n",
      " [[1 1 1]\n",
      "  [1 1 1]]\n",
      "\n",
      " [[1 1 1]\n",
      "  [1 1 1]]]\n"
     ]
    }
   ],
   "source": [
    "a.reshape(3,10)\n",
    "b.reshape(3,10)\n",
    "\n",
    "print(a)\n",
    "print(b)\n"
   ]
  },
  {
   "cell_type": "markdown",
   "metadata": {
    "colab_type": "text",
    "id": "o9UzXk9IwCdi"
   },
   "source": [
    "#### 8. Are you able to add *a* and *b*? Why or why not?\n"
   ]
  },
  {
   "cell_type": "code",
   "execution_count": 10,
   "metadata": {
    "ExecuteTime": {
     "end_time": "2021-03-30T12:47:34.277539Z",
     "start_time": "2021-03-30T12:47:33.800813Z"
    },
    "colab": {},
    "colab_type": "code",
    "id": "drdAyKPywCdj"
   },
   "outputs": [
    {
     "ename": "ValueError",
     "evalue": "operands could not be broadcast together with shapes (3,2,5) (5,2,3) ",
     "output_type": "error",
     "traceback": [
      "\u001b[1;31m---------------------------------------------------------------------------\u001b[0m",
      "\u001b[1;31mValueError\u001b[0m                                Traceback (most recent call last)",
      "\u001b[1;32m<ipython-input-10-258b8a3753ef>\u001b[0m in \u001b[0;36m<module>\u001b[1;34m\u001b[0m\n\u001b[1;32m----> 1\u001b[1;33m \u001b[0mc\u001b[0m \u001b[1;33m=\u001b[0m \u001b[0ma\u001b[0m \u001b[1;33m+\u001b[0m \u001b[0mb\u001b[0m\u001b[1;33m\u001b[0m\u001b[1;33m\u001b[0m\u001b[0m\n\u001b[0m\u001b[0;32m      2\u001b[0m \u001b[0mc\u001b[0m\u001b[1;33m\u001b[0m\u001b[1;33m\u001b[0m\u001b[0m\n",
      "\u001b[1;31mValueError\u001b[0m: operands could not be broadcast together with shapes (3,2,5) (5,2,3) "
     ]
    }
   ],
   "source": [
    "c = a + b\n",
    "c\n",
    "\n"
   ]
  },
  {
   "cell_type": "markdown",
   "metadata": {
    "colab_type": "text",
    "id": "DTsSOpvYwCdm"
   },
   "source": [
    "#### 9. Reshape *b* so that it has the same structure of *a* (i.e. become a 3x2x5 array). Assign the reshaped array to variable *c*.\n",
    "\n",
    "Expected output:\n",
    "\n",
    "````python\n",
    "      [[[1, 1, 1, 1, 1],\n",
    "        [1, 1, 1, 1, 1]],\n",
    "\n",
    "       [[1, 1, 1, 1, 1],\n",
    "        [1, 1, 1, 1, 1]],\n",
    "\n",
    "       [[1, 1, 1, 1, 1],\n",
    "        [1, 1, 1, 1, 1]]]\n",
    "````"
   ]
  },
  {
   "cell_type": "code",
   "execution_count": 13,
   "metadata": {
    "ExecuteTime": {
     "end_time": "2021-03-30T12:48:17.176628Z",
     "start_time": "2021-03-30T12:48:17.171640Z"
    },
    "colab": {},
    "colab_type": "code",
    "id": "DjLlRJUtwCdn"
   },
   "outputs": [
    {
     "data": {
      "text/plain": [
       "array([[[0.95401277, 0.99857349, 0.81861789, 0.3773142 , 0.80989962],\n",
       "        [0.64592301, 0.56029472, 0.22310302, 0.5354489 , 0.56717426]],\n",
       "\n",
       "       [[0.13695326, 0.95176825, 0.55050116, 0.79138235, 0.39584826],\n",
       "        [0.35130659, 0.20767382, 0.55682306, 0.49455945, 0.83136893]],\n",
       "\n",
       "       [[0.2628423 , 0.14639602, 0.99934696, 0.1199547 , 0.84186601],\n",
       "        [0.41321173, 0.89855835, 0.95156744, 0.48586061, 0.39932139]]])"
      ]
     },
     "execution_count": 13,
     "metadata": {},
     "output_type": "execute_result"
    }
   ],
   "source": [
    "c= b.reshape(3,2,5)\n",
    "a.reshape(3,2,5)\n",
    "\n",
    "\n",
    "\n",
    "\n",
    "\n"
   ]
  },
  {
   "cell_type": "markdown",
   "metadata": {
    "colab_type": "text",
    "id": "fvHocQ9EwCdq"
   },
   "source": [
    "#### 10. Try to add *a* and *c*. Now it should work. Assign the sum to variable *d*. But why does it work now?"
   ]
  },
  {
   "cell_type": "code",
   "execution_count": 14,
   "metadata": {
    "ExecuteTime": {
     "end_time": "2021-03-30T12:48:19.748365Z",
     "start_time": "2021-03-30T12:48:19.745373Z"
    },
    "colab": {},
    "colab_type": "code",
    "id": "Ohf5yh5ZwCdr"
   },
   "outputs": [],
   "source": [
    "d= c + a"
   ]
  },
  {
   "cell_type": "markdown",
   "metadata": {
    "colab_type": "text",
    "id": "DuQBMzQBwCdw"
   },
   "source": [
    "#### 11. Print *a* and *d*. Notice the difference and relation of the two array in terms of the values? Explain."
   ]
  },
  {
   "cell_type": "code",
   "execution_count": 15,
   "metadata": {
    "ExecuteTime": {
     "end_time": "2021-03-30T12:48:21.489192Z",
     "start_time": "2021-03-30T12:48:21.485204Z"
    },
    "colab": {},
    "colab_type": "code",
    "id": "gEuh7iv1wCdx"
   },
   "outputs": [
    {
     "name": "stdout",
     "output_type": "stream",
     "text": [
      "[[[1 1 1 1 1]\n",
      "  [1 1 1 1 1]]\n",
      "\n",
      " [[1 1 1 1 1]\n",
      "  [1 1 1 1 1]]\n",
      "\n",
      " [[1 1 1 1 1]\n",
      "  [1 1 1 1 1]]]\n",
      "[[[0.95401277 0.99857349 0.81861789 0.3773142  0.80989962]\n",
      "  [0.64592301 0.56029472 0.22310302 0.5354489  0.56717426]]\n",
      "\n",
      " [[0.13695326 0.95176825 0.55050116 0.79138235 0.39584826]\n",
      "  [0.35130659 0.20767382 0.55682306 0.49455945 0.83136893]]\n",
      "\n",
      " [[0.2628423  0.14639602 0.99934696 0.1199547  0.84186601]\n",
      "  [0.41321173 0.89855835 0.95156744 0.48586061 0.39932139]]]\n"
     ]
    }
   ],
   "source": [
    "print(c)\n",
    "print(a)"
   ]
  },
  {
   "cell_type": "markdown",
   "metadata": {
    "colab_type": "text",
    "id": "Ka1popJ3wCd0"
   },
   "source": [
    "#### 12. Multiply *a* and *c*. Assign the result to *e*."
   ]
  },
  {
   "cell_type": "code",
   "execution_count": 16,
   "metadata": {
    "ExecuteTime": {
     "end_time": "2021-03-30T12:48:23.853195Z",
     "start_time": "2021-03-30T12:48:23.848188Z"
    },
    "colab": {},
    "colab_type": "code",
    "id": "hLeCMiSEwCd1"
   },
   "outputs": [
    {
     "name": "stdout",
     "output_type": "stream",
     "text": [
      "[[[0.95401277 0.99857349 0.81861789 0.3773142  0.80989962]\n",
      "  [0.64592301 0.56029472 0.22310302 0.5354489  0.56717426]]\n",
      "\n",
      " [[0.13695326 0.95176825 0.55050116 0.79138235 0.39584826]\n",
      "  [0.35130659 0.20767382 0.55682306 0.49455945 0.83136893]]\n",
      "\n",
      " [[0.2628423  0.14639602 0.99934696 0.1199547  0.84186601]\n",
      "  [0.41321173 0.89855835 0.95156744 0.48586061 0.39932139]]]\n",
      "[[[0.95401277 0.99857349 0.81861789 0.3773142  0.80989962]\n",
      "  [0.64592301 0.56029472 0.22310302 0.5354489  0.56717426]]\n",
      "\n",
      " [[0.13695326 0.95176825 0.55050116 0.79138235 0.39584826]\n",
      "  [0.35130659 0.20767382 0.55682306 0.49455945 0.83136893]]\n",
      "\n",
      " [[0.2628423  0.14639602 0.99934696 0.1199547  0.84186601]\n",
      "  [0.41321173 0.89855835 0.95156744 0.48586061 0.39932139]]]\n"
     ]
    }
   ],
   "source": [
    "print(a*c)\n",
    "d = np.array(a)\n",
    "e = np.array(c)\n",
    "f = d*e\n",
    "print(f)"
   ]
  },
  {
   "cell_type": "markdown",
   "metadata": {
    "colab_type": "text",
    "id": "1QCqP6lMwCd5"
   },
   "source": [
    "#### 13. Does *e* equal to *a*? Why or why not?\n"
   ]
  },
  {
   "cell_type": "code",
   "execution_count": 53,
   "metadata": {
    "ExecuteTime": {
     "end_time": "2021-03-30T12:57:38.924674Z",
     "start_time": "2021-03-30T12:57:38.920663Z"
    },
    "colab": {},
    "colab_type": "code",
    "id": "oxoat0cbwCd6"
   },
   "outputs": [
    {
     "name": "stdout",
     "output_type": "stream",
     "text": [
      "true\n"
     ]
    }
   ],
   "source": [
    "print(\"true\")"
   ]
  },
  {
   "cell_type": "markdown",
   "metadata": {
    "colab_type": "text",
    "id": "b7ceZMcswCd9"
   },
   "source": [
    "#### 14. Identify the max, min, and mean values in *d*. Assign those values to variables *d_max*, *d_min* and *d_mean*."
   ]
  },
  {
   "cell_type": "code",
   "execution_count": 46,
   "metadata": {
    "ExecuteTime": {
     "end_time": "2021-03-30T12:51:59.571337Z",
     "start_time": "2021-03-30T12:51:59.567371Z"
    },
    "colab": {},
    "colab_type": "code",
    "id": "ljd7J4ucwCd-"
   },
   "outputs": [
    {
     "name": "stdout",
     "output_type": "stream",
     "text": [
      "0.9993469608503486\n",
      "0.11995470355176596\n",
      "0.5759157499286017\n"
     ]
    }
   ],
   "source": [
    "f_max = f.max()\n",
    "f_min = f.min()\n",
    "f_mean= f.mean()\n",
    "\n",
    "print(f_max)\n",
    "print(f_min)\n",
    "print(f_mean)"
   ]
  },
  {
   "cell_type": "markdown",
   "metadata": {
    "colab_type": "text",
    "id": "bBmZ1bg3wCeC"
   },
   "source": [
    "#### 15. Now we want to label the values in *d*. First create an empty array *f* with the same shape (i.e. 3x2x5) as *d* using `np.empty`.\n"
   ]
  },
  {
   "cell_type": "code",
   "execution_count": 47,
   "metadata": {
    "ExecuteTime": {
     "end_time": "2021-03-30T12:52:02.777785Z",
     "start_time": "2021-03-30T12:52:02.774770Z"
    },
    "colab": {},
    "colab_type": "code",
    "id": "GVU7znV7wCeD"
   },
   "outputs": [
    {
     "name": "stdout",
     "output_type": "stream",
     "text": [
      "[[[0.95401277 0.99857349 0.81861789 0.3773142  0.80989962]\n",
      "  [0.64592301 0.56029472 0.22310302 0.5354489  0.56717426]]\n",
      "\n",
      " [[0.13695326 0.95176825 0.55050116 0.79138235 0.39584826]\n",
      "  [0.35130659 0.20767382 0.55682306 0.49455945 0.83136893]]\n",
      "\n",
      " [[0.2628423  0.14639602 0.99934696 0.1199547  0.84186601]\n",
      "  [0.41321173 0.89855835 0.95156744 0.48586061 0.39932139]]]\n"
     ]
    }
   ],
   "source": [
    "g = np.empty((3,2,5))\n",
    "print(g)\n"
   ]
  },
  {
   "cell_type": "code",
   "execution_count": null,
   "metadata": {},
   "outputs": [],
   "source": []
  },
  {
   "cell_type": "markdown",
   "metadata": {
    "colab_type": "text",
    "id": "cwZMaPTawCeG"
   },
   "source": [
    "#### 16. Populate the values in *f*. \n",
    "\n",
    "For each value in *d*, if it's larger than *d_min* but smaller than *d_mean*, assign 25 to the corresponding value in *f*. If a value in *d* is larger than *d_mean* but smaller than *d_max*, assign 75 to the corresponding value in *f*. If a value equals to *d_mean*, assign 50 to the corresponding value in *f*. Assign 0 to the corresponding value(s) in *f* for *d_min* in *d*. Assign 100 to the corresponding value(s) in *f* for *d_max* in *d*. In the end, f should have only the following values: 0, 25, 50, 75, and 100.\n",
    "\n",
    "**Note**: you don't have to use Numpy in this question."
   ]
  },
  {
   "cell_type": "code",
   "execution_count": 56,
   "metadata": {
    "ExecuteTime": {
     "end_time": "2021-03-30T12:59:40.345393Z",
     "start_time": "2021-03-30T12:59:40.339409Z"
    },
    "colab": {},
    "colab_type": "code",
    "id": "He3bA8_vwCeI"
   },
   "outputs": [
    {
     "name": "stdout",
     "output_type": "stream",
     "text": [
      "[[[ 75.  75.  75.  25.  75.]\n",
      "  [ 75.  25.  25.  25.  25.]]\n",
      "\n",
      " [[ 25.  75.  25.  75.  25.]\n",
      "  [ 25.  25.  25.  25.  75.]]\n",
      "\n",
      " [[ 25.  25. 100.   0.  75.]\n",
      "  [ 25.  75.  75.  25.  25.]]]\n"
     ]
    }
   ],
   "source": [
    "for i in range(3):\n",
    "    for l in range(2):\n",
    "        for m in range(5):\n",
    "            if f[i,l,m] > f_min and f[i,l,m] < f_mean:\n",
    "                 g[i,l,m] = 25\n",
    "            elif f[i,l,m] > f_mean and f[i,l,m] < f_max:\n",
    "                g[i,l,m] = 75\n",
    "            elif f[i,l,m] == f_mean:\n",
    "                g[i,l,m] = 50\n",
    "            elif f[i,l,m] == f_min:\n",
    "                 g[i,l,m] = 0\n",
    "            elif f[i,l,m] == f_max:\n",
    "                g[i,l,m] = 100\n",
    "print(g)"
   ]
  },
  {
   "cell_type": "markdown",
   "metadata": {
    "colab_type": "text",
    "id": "DtXatajMwCeM"
   },
   "source": [
    "#### 17. Print *d* and *f*. Do you have your expected *f*?\n",
    "For instance, if your *d* is:\n",
    "```python\n",
    "[[[1.85836099, 1.67064465, 1.62576044, 1.40243961, 1.88454931],\n",
    "  [1.75354326, 1.69403643, 1.36729252, 1.61415071, 1.12104981]],\n",
    "\n",
    "[[1.72201435, 1.1862918 , 1.87078449, 1.7726778 , 1.88180042],\n",
    "  [1.44747908, 1.31673383, 1.02000951, 1.52218947, 1.97066381]],\n",
    "\n",
    "[[1.79129243, 1.74983003, 1.96028037, 1.85166831, 1.65450881],\n",
    " [1.18068344, 1.9587381 , 1.00656599, 1.93402165, 1.73514584]]]\n",
    "```\n",
    "Your *f* should be:\n",
    "```python\n",
    "[[[ 75.  75.  75.  25.  75.]\n",
    "  [ 75.  75.  25.  25.  25.]]\n",
    "\n",
    " [[ 75.  25.  75.  75.  75.]\n",
    "  [ 25.  25.  25.  25. 100.]]\n",
    "\n",
    " [[ 75.  75.  75.  75.  75.]\n",
    "  [ 25.  75.   0.  75.  75.]]]\n",
    "```"
   ]
  },
  {
   "cell_type": "code",
   "execution_count": 58,
   "metadata": {
    "ExecuteTime": {
     "end_time": "2021-03-30T17:52:58.175909Z",
     "start_time": "2021-03-30T17:52:58.171941Z"
    },
    "colab": {},
    "colab_type": "code",
    "id": "wvC83zaUwCeN"
   },
   "outputs": [
    {
     "name": "stdout",
     "output_type": "stream",
     "text": [
      "[[[0.95401277 0.99857349 0.81861789 0.3773142  0.80989962]\n",
      "  [0.64592301 0.56029472 0.22310302 0.5354489  0.56717426]]\n",
      "\n",
      " [[0.13695326 0.95176825 0.55050116 0.79138235 0.39584826]\n",
      "  [0.35130659 0.20767382 0.55682306 0.49455945 0.83136893]]\n",
      "\n",
      " [[0.2628423  0.14639602 0.99934696 0.1199547  0.84186601]\n",
      "  [0.41321173 0.89855835 0.95156744 0.48586061 0.39932139]]]\n",
      "[[[ 75.  75.  75.  25.  75.]\n",
      "  [ 75.  25.  25.  25.  25.]]\n",
      "\n",
      " [[ 25.  75.  25.  75.  25.]\n",
      "  [ 25.  25.  25.  25.  75.]]\n",
      "\n",
      " [[ 25.  25. 100.   0.  75.]\n",
      "  [ 25.  75.  75.  25.  25.]]]\n"
     ]
    }
   ],
   "source": [
    "print(f)\n",
    "print(g)"
   ]
  },
  {
   "cell_type": "markdown",
   "metadata": {
    "colab_type": "text",
    "id": "ppRoFFJBwCeS"
   },
   "source": [
    "#### 18. Bonus question: instead of using numbers (i.e. 0, 25, 50, 75, and 100), use string values  (\"A\", \"B\", \"C\", \"D\", and \"E\") to label the array elements. For the example above, the expected result is:\n",
    "\n",
    "```python\n",
    "[[['D' 'D' 'D' 'B' 'D']\n",
    "  ['D' 'D' 'B' 'B' 'B']]\n",
    "\n",
    " [['D' 'B' 'D' 'D' 'D']\n",
    "  ['B' 'B' 'B' 'B' 'E']]\n",
    "\n",
    " [['D' 'D' 'D' 'D' 'D']\n",
    "  ['B' 'D' 'A' 'D' 'D']]]\n",
    "```\n",
    "**Note**: you don't have to use Numpy in this question."
   ]
  },
  {
   "cell_type": "code",
   "execution_count": 70,
   "metadata": {
    "ExecuteTime": {
     "end_time": "2021-03-30T18:07:05.520820Z",
     "start_time": "2021-03-30T18:07:05.516802Z"
    },
    "colab": {},
    "colab_type": "code",
    "id": "xbBNSrnCwCeU"
   },
   "outputs": [
    {
     "name": "stdout",
     "output_type": "stream",
     "text": [
      "[[['D' 'D' 'D' 'B' 'D']\n",
      "  ['D' 'B' 'B' 'B' 'B']]\n",
      "\n",
      " [['B' 'D' 'B' 'D' 'B']\n",
      "  ['B' 'B' 'B' 'B' 'D']]\n",
      "\n",
      " [['B' 'B' 'E' 'A' 'D']\n",
      "  ['B' 'D' 'D' 'B' 'B']]]\n"
     ]
    }
   ],
   "source": [
    "g = g.astype('unicode_')\n",
    "g[g == '0.0'] = 'A'\n",
    "g[g == '25.0'] = 'B'\n",
    "g[g == '50.0'] = 'C'\n",
    "g[g == '75.0'] = 'D'\n",
    "g[g == '100.0'] = 'E'                \n",
    "print(g)"
   ]
  },
  {
   "cell_type": "markdown",
   "metadata": {
    "colab_type": "text",
    "id": "QzJyLQiFMsyT"
   },
   "source": [
    "## Additional Challenges for the Nerds\n",
    "\n",
    "If you are way ahead of your classmates and willing to accept some tough challenges about Numpy, take one or several of the following Codewar *katas*. \tYou need to already possess a good amount of knowledge in Python and statistics because you will need to write Python functions, do loops, write conditionals, and deal with matrices.\n",
    "\n",
    "* [Insert dashes](https://www.codewars.com/kata/insert-dashes)\n",
    "* [Thinkful - Logic Drills: Red and bumpy](https://www.codewars.com/kata/thinkful-logic-drills-red-and-bumpy)"
   ]
  },
  {
   "cell_type": "code",
   "execution_count": null,
   "metadata": {
    "colab": {},
    "colab_type": "code",
    "id": "fy2EwolQMtfJ"
   },
   "outputs": [],
   "source": []
  }
 ],
 "metadata": {
  "colab": {
   "collapsed_sections": [],
   "name": "main.ipynb",
   "provenance": []
  },
  "kernelspec": {
   "display_name": "Python 3",
   "language": "python",
   "name": "python3"
  },
  "language_info": {
   "codemirror_mode": {
    "name": "ipython",
    "version": 3
   },
   "file_extension": ".py",
   "mimetype": "text/x-python",
   "name": "python",
   "nbconvert_exporter": "python",
   "pygments_lexer": "ipython3",
   "version": "3.8.5"
  },
  "toc": {
   "base_numbering": 1,
   "nav_menu": {},
   "number_sections": true,
   "sideBar": true,
   "skip_h1_title": false,
   "title_cell": "Table of Contents",
   "title_sidebar": "Contents",
   "toc_cell": false,
   "toc_position": {},
   "toc_section_display": true,
   "toc_window_display": false
  },
  "varInspector": {
   "cols": {
    "lenName": 16,
    "lenType": 16,
    "lenVar": 40
   },
   "kernels_config": {
    "python": {
     "delete_cmd_postfix": "",
     "delete_cmd_prefix": "del ",
     "library": "var_list.py",
     "varRefreshCmd": "print(var_dic_list())"
    },
    "r": {
     "delete_cmd_postfix": ") ",
     "delete_cmd_prefix": "rm(",
     "library": "var_list.r",
     "varRefreshCmd": "cat(var_dic_list()) "
    }
   },
   "types_to_exclude": [
    "module",
    "function",
    "builtin_function_or_method",
    "instance",
    "_Feature"
   ],
   "window_display": false
  }
 },
 "nbformat": 4,
 "nbformat_minor": 1
}
