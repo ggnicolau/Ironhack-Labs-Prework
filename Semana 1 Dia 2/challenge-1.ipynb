{
 "cells": [
  {
   "cell_type": "markdown",
   "metadata": {
    "colab_type": "text",
    "id": "-Zg4yM02BhP4"
   },
   "source": [
    "## Challenge 1: Tuples\n",
    "\n",
    "#### Do you know you can create tuples with only one element?\n",
    "\n",
    "**In the cell below, define a variable `tup` with a single element `\"I\"`.**\n",
    "\n",
    "*Hint: you need to add a comma (`,`) after the single element.*"
   ]
  },
  {
   "cell_type": "code",
   "execution_count": 1,
   "metadata": {
    "colab": {},
    "colab_type": "code",
    "id": "lo0BivxsBhP7"
   },
   "outputs": [],
   "source": [
    "tup=(\"I\",)\n",
    "\n"
   ]
  },
  {
   "cell_type": "markdown",
   "metadata": {
    "colab_type": "text",
    "id": "VtX5LuRbBhQC"
   },
   "source": [
    "#### Print the type of `tup`. \n",
    "\n",
    "Make sure its type is correct (i.e. *tuple* instead of *str*)."
   ]
  },
  {
   "cell_type": "code",
   "execution_count": 2,
   "metadata": {
    "colab": {},
    "colab_type": "code",
    "id": "j9MW7jQ7BhQC"
   },
   "outputs": [
    {
     "data": {
      "text/plain": [
       "tuple"
      ]
     },
     "execution_count": 2,
     "metadata": {},
     "output_type": "execute_result"
    }
   ],
   "source": [
    "type(tup)"
   ]
  },
  {
   "cell_type": "markdown",
   "metadata": {
    "colab_type": "text",
    "id": "DwR4FCDhBhQH"
   },
   "source": [
    "#### Now try to append the following elements to `tup`. \n",
    "\n",
    "Are you able to do it? Explain.\n",
    "\n",
    "```\n",
    "\"r\", \"o\", \"n\", \"h\", \"a\", \"c\", \"k',\n",
    "```"
   ]
  },
  {
   "cell_type": "code",
   "execution_count": 3,
   "metadata": {
    "colab": {},
    "colab_type": "code",
    "id": "rYpdY_1gBhQI"
   },
   "outputs": [
    {
     "name": "stdout",
     "output_type": "stream",
     "text": [
      "['I', 'r', 'o', 'n', 'h', 'a', 'c', 'k']\n"
     ]
    }
   ],
   "source": [
    "a=list(tup)\n",
    "list(tup)\n",
    "b= [\"r\", \"o\", \"n\", \"h\", \"a\", \"c\", \"k\",]\n",
    "c= a + b\n",
    "print(c)\n",
    "\n",
    "# transformei a tuple em lista, criei uma lista com os novos elementos, e pedi para somar as duas listas;\n"
   ]
  },
  {
   "cell_type": "markdown",
   "metadata": {
    "colab_type": "text",
    "id": "vxiLDRW_BhQM"
   },
   "source": [
    "#### How about re-assign a new value to an existing tuple?\n",
    "\n",
    "Re-assign the following elements to `tup`. Are you able to do it? Explain.\n",
    "\n",
    "```\n",
    "\"I\", \"r\", \"o\", \"n\", \"h\", \"a\", \"c\", \"k\"\n",
    "```"
   ]
  },
  {
   "cell_type": "code",
   "execution_count": 4,
   "metadata": {
    "colab": {},
    "colab_type": "code",
    "id": "7mQ_9MNyBhQN"
   },
   "outputs": [],
   "source": [
    "tuple(c)\n",
    "tup=c\n",
    "\n",
    "# Não posso fazer isso, porque tuples são imutáveis. Mas eu posso converter a minha lista C em tuple e renomear paraaTup\n"
   ]
  },
  {
   "cell_type": "markdown",
   "metadata": {
    "colab_type": "text",
    "id": "Z8-HV7rmBhQR"
   },
   "source": [
    "#### Split `tup` into `tup1` and `tup2` with 4 elements in each. \n",
    "\n",
    "`tup1` should be `(\"I\", \"r\", \"o\", \"n\")` and `tup2` should be `(\"h\", \"a\", \"c\", \"k\")`.\n",
    "\n",
    "*Hint: use positive index numbers for `tup1` assignment and use negative index numbers for `tup2` assignment. Positive index numbers count from the beginning whereas negative index numbers count from the end of the sequence.*\n",
    "\n",
    "Also print `tup1` and `tup2`."
   ]
  },
  {
   "cell_type": "code",
   "execution_count": 5,
   "metadata": {
    "colab": {},
    "colab_type": "code",
    "id": "U5y0usrdBhQS"
   },
   "outputs": [
    {
     "name": "stdout",
     "output_type": "stream",
     "text": [
      "['I', 'r', 'o', 'n', 'h', 'a', 'c', 'k']\n",
      "['I', 'r', 'o']\n",
      "['h', 'a', 'c', 'k']\n"
     ]
    }
   ],
   "source": [
    "print(tup)\n",
    "tup1=tup[0:3]\n",
    "tup2=tup[4:8]\n",
    "print(tup1)\n",
    "print(tup2)\n",
    "\n"
   ]
  },
  {
   "cell_type": "code",
   "execution_count": 6,
   "metadata": {
    "colab": {},
    "colab_type": "code",
    "id": "ZJNLjI7oBhQW"
   },
   "outputs": [
    {
     "name": "stdout",
     "output_type": "stream",
     "text": [
      "['h', 'a', 'c', 'k']\n"
     ]
    }
   ],
   "source": [
    "tup2=tup[-4:]\n",
    "tup2=tup[4:8]\n",
    "print(tup2)"
   ]
  },
  {
   "cell_type": "markdown",
   "metadata": {
    "colab_type": "text",
    "id": "pD6mNeP9BhQf"
   },
   "source": [
    "#### Add `tup1` and `tup2` into `tup3` using the `+` operator.\n",
    "\n",
    "Then print `tup3` and check if `tup3` equals to `tup`."
   ]
  },
  {
   "cell_type": "code",
   "execution_count": 7,
   "metadata": {
    "colab": {},
    "colab_type": "code",
    "id": "unx60OMWBhQg"
   },
   "outputs": [
    {
     "name": "stdout",
     "output_type": "stream",
     "text": [
      "['I', 'r', 'o', 'h', 'a', 'c', 'k']\n"
     ]
    }
   ],
   "source": [
    "tup3=tup1+tup2\n",
    "print(tup3)\n"
   ]
  },
  {
   "cell_type": "markdown",
   "metadata": {
    "colab_type": "text",
    "id": "ayeU2vHxBhQj"
   },
   "source": [
    "#### Count the number of elements in `tup1` and `tup2`. Then add the two counts together and check if the sum is the same as the number of elements in `tup3`."
   ]
  },
  {
   "cell_type": "code",
   "execution_count": 8,
   "metadata": {
    "colab": {},
    "colab_type": "code",
    "id": "0mqNXMctBhQl"
   },
   "outputs": [
    {
     "name": "stdout",
     "output_type": "stream",
     "text": [
      "3\n",
      "4\n",
      "7\n"
     ]
    },
    {
     "data": {
      "text/plain": [
       "True"
      ]
     },
     "execution_count": 8,
     "metadata": {},
     "output_type": "execute_result"
    }
   ],
   "source": [
    "print(len(tup1))\n",
    "print (len(tup2))\n",
    "print(len(tup3))\n",
    "len(tup3)==len(tup1)+len(tup2)\n",
    "\n",
    "\n"
   ]
  },
  {
   "cell_type": "markdown",
   "metadata": {
    "colab_type": "text",
    "id": "9xLtd79kBhQo"
   },
   "source": [
    "#### What is the index number of `\"h\"` in `tup3`?"
   ]
  },
  {
   "cell_type": "code",
   "execution_count": 9,
   "metadata": {
    "colab": {},
    "colab_type": "code",
    "id": "LVVwYZt5BhQp"
   },
   "outputs": [
    {
     "data": {
      "text/plain": [
       "3"
      ]
     },
     "execution_count": 9,
     "metadata": {},
     "output_type": "execute_result"
    }
   ],
   "source": [
    "tup3.index(\"h\")\n"
   ]
  },
  {
   "cell_type": "markdown",
   "metadata": {
    "colab_type": "text",
    "id": "lf09qlmmBhQt"
   },
   "source": [
    "#### Now, use a FOR loop to check whether each letter in the following list is present in `tup3`:\n",
    "\n",
    "```\n",
    "letters = [\"a\", \"b\", \"c\", \"d\", \"e\"]\n",
    "```\n",
    "\n",
    "For each letter you check, print `True` if it is present in `tup3` otherwise print `False`.\n",
    "\n",
    "*Hint: you only need to loop `letters`. You don't need to loop `tup3` because there is a Python operator `in` you can use. See [reference](https://stackoverflow.com/questions/17920147/how-to-check-if-a-tuple-contains-an-element-in-python).*"
   ]
  },
  {
   "cell_type": "code",
   "execution_count": 47,
   "metadata": {
    "colab": {},
    "colab_type": "code",
    "id": "cXhlYXWRBhQu"
   },
   "outputs": [
    {
     "name": "stdout",
     "output_type": "stream",
     "text": [
      "['I', 'a', 'c', 'h', 'k', 'o', 'r']\n",
      "a\n",
      "c\n"
     ]
    }
   ],
   "source": [
    "round=0\n",
    "\n",
    "tup3= ['I', 'r', 'o', 'h', 'a', 'c', 'k']\n",
    "letters = [\"a\", \"b\", \"c\", \"d\", \"e\"]\n",
    "a= sorted(tup3)\n",
    "print(a)\n",
    "\n",
    "for element in a:\n",
    "    if element in letters:\n",
    "        print(element)\n",
    "\n",
    "\n"
   ]
  },
  {
   "cell_type": "markdown",
   "metadata": {
    "colab_type": "text",
    "id": "rk4WFJ5DBhQy"
   },
   "source": [
    "#### How many times does each letter in `letters` appear in `tup3`?\n",
    "\n",
    "Print out the number of occurrence of each letter."
   ]
  },
  {
   "cell_type": "code",
   "execution_count": null,
   "metadata": {
    "colab": {},
    "colab_type": "code",
    "id": "jYh4jiEaBhQy"
   },
   "outputs": [],
   "source": [
    "round=0\n",
    "\n",
    "tup3= ['I', 'r', 'o', 'h', 'a', 'c', 'k']\n",
    "letters = [\"a\", \"b\", \"c\", \"d\", \"e\"]\n",
    "a= sorted(tup3)\n",
    "print(a)\n",
    "c= a - letters\n",
    "\n",
    "output = [x for x in a if not x in ke or D.remove(x)]\n",
    "\n",
    "//output: ['A', 'B']\n",
    "\n",
    "for i in letters:\n",
    "    if i is True:\n",
    "        print(\"The list {} contains some elements of the list {}\".format(a, letters))    \n",
    "    else :\n",
    "         print(\"No, List1 doesn't have any elements of the List2.\")\n"
   ]
  }
 ],
 "metadata": {
  "colab": {
   "name": "challenge-1.ipynb",
   "provenance": []
  },
  "kernelspec": {
   "display_name": "Python 3",
   "language": "python",
   "name": "python3"
  },
  "language_info": {
   "codemirror_mode": {
    "name": "ipython",
    "version": 3
   },
   "file_extension": ".py",
   "mimetype": "text/x-python",
   "name": "python",
   "nbconvert_exporter": "python",
   "pygments_lexer": "ipython3",
   "version": "3.8.5"
  },
  "toc": {
   "base_numbering": 1,
   "nav_menu": {},
   "number_sections": true,
   "sideBar": true,
   "skip_h1_title": false,
   "title_cell": "Table of Contents",
   "title_sidebar": "Contents",
   "toc_cell": false,
   "toc_position": {},
   "toc_section_display": true,
   "toc_window_display": false
  },
  "varInspector": {
   "cols": {
    "lenName": 16,
    "lenType": 16,
    "lenVar": 40
   },
   "kernels_config": {
    "python": {
     "delete_cmd_postfix": "",
     "delete_cmd_prefix": "del ",
     "library": "var_list.py",
     "varRefreshCmd": "print(var_dic_list())"
    },
    "r": {
     "delete_cmd_postfix": ") ",
     "delete_cmd_prefix": "rm(",
     "library": "var_list.r",
     "varRefreshCmd": "cat(var_dic_list()) "
    }
   },
   "types_to_exclude": [
    "module",
    "function",
    "builtin_function_or_method",
    "instance",
    "_Feature"
   ],
   "window_display": false
  }
 },
 "nbformat": 4,
 "nbformat_minor": 1
}
