{
 "cells": [
  {
   "cell_type": "markdown",
   "metadata": {
    "id": "Smya68K_kUJz"
   },
   "source": [
    "# Before your start:\n",
    "- Read the README.md file\n",
    "- Comment as much as you can and use the resources in the README.md file\n",
    "- Happy learning!"
   ]
  },
  {
   "cell_type": "code",
   "execution_count": 3,
   "metadata": {
    "id": "UmpfHHYjkUJ0"
   },
   "outputs": [],
   "source": [
    "import re"
   ]
  },
  {
   "cell_type": "markdown",
   "metadata": {
    "id": "yLuALiyCkUJ3"
   },
   "source": [
    "# Challenge 1 - Combining Strings\n",
    "\n",
    "Combining strings is an important skill to acquire. There are multiple ways of combining strings in Python, as well as combining strings with variables. We will explore this in the first challenge. In the cell below, combine the strings in the list and add spaces between the strings (do not add a space after the last string). Insert a period after the last string."
   ]
  },
  {
   "cell_type": "code",
   "execution_count": 20,
   "metadata": {
    "id": "n0LxSL1tkUJ4"
   },
   "outputs": [
    {
     "name": "stdout",
     "output_type": "stream",
     "text": [
      "Durante un tiempo no estuvo segura de si su marido era su marido\n"
     ]
    }
   ],
   "source": [
    "str_list = ['Durante', 'un', 'tiempo', 'no', 'estuvo', 'segura', 'de', 'si', 'su', 'marido', 'era', 'su', 'marido']\n",
    "\n",
    "a='-'.join(str_list)\n",
    "b=' '.join(str_list)\n",
    "\n",
    "print(b)\n",
    "\n"
   ]
  },
  {
   "cell_type": "markdown",
   "metadata": {
    "id": "jjnjuDhbkUJ6"
   },
   "source": [
    "In the cell below, use the list of strings to create a grocery list. Start the list with the string `Grocery list: ` and include a comma and a space between each item except for the last one. Include a period at the end. Only include foods in the list that start with the letter 'b' and ensure all foods are lower case."
   ]
  },
  {
   "cell_type": "code",
   "execution_count": 25,
   "metadata": {
    "id": "D9EWG-9YkUJ6"
   },
   "outputs": [
    {
     "name": "stdout",
     "output_type": "stream",
     "text": [
      "Bananas, Chocolate, bread, diapers, Ice Cream, Brownie Mix, broccoli\n",
      "Grocery list: Bananas, Chocolate, bread, diapers, Ice Cream, Brownie Mix, broccoli\n"
     ]
    }
   ],
   "source": [
    "food_list = ['Bananas', 'Chocolate', 'bread', 'diapers', 'Ice Cream', 'Brownie Mix', 'broccoli']\n",
    "\n",
    "a=', '.join(food_list)\n",
    "print(a)\n",
    "\n",
    "b= 'Grocery list: '\n",
    "c= b+a\n",
    "print(c)\n",
    "\n"
   ]
  },
  {
   "cell_type": "markdown",
   "metadata": {
    "id": "r-7puDW_kUJ8"
   },
   "source": [
    "In the cell below, write a function that computes the area of a circle using its radius. Compute the area of the circle and insert the radius and the area between the two strings. Make sure to include spaces between the variable and the strings. \n",
    "\n",
    "Note: You can use the techniques we have learned so far or use f-strings. F-strings allow us to embed code inside strings. You can read more about f-strings [here](https://www.python.org/dev/peps/pep-0498/)."
   ]
  },
  {
   "cell_type": "code",
   "execution_count": 141,
   "metadata": {
    "id": "dEpQOL59kUJ9"
   },
   "outputs": [
    {
     "name": "stdout",
     "output_type": "stream",
     "text": [
      "The area of the circle with radius is:\n",
      "d=<function area at 0x0000021725B39C10>\n"
     ]
    },
    {
     "data": {
      "text/plain": [
       "(None, None)"
      ]
     },
     "execution_count": 141,
     "metadata": {},
     "output_type": "execute_result"
    }
   ],
   "source": [
    "string1 = \"The area of the circle with radius\"\n",
    "string2  = \"is:\"\n",
    "radius = 4.5\n",
    "d = area\n",
    "\n",
    "def area(radius):\n",
    "    pi = 3.1415\n",
    "\n",
    "s3 = f'{string1} {string2}'\n",
    "print(s3) \n",
    "print(f'd={d}')\n",
    "\n",
    "\n",
    "\n"
   ]
  },
  {
   "cell_type": "markdown",
   "metadata": {
    "id": "5wUx1N0gkUJ_"
   },
   "source": [
    "# Challenge 2 - Splitting Strings\n",
    "\n",
    "We have first looked at combining strings into one long string. There are times where we need to do the opposite and split the string into smaller components for further analysis. \n",
    "\n",
    "In the cell below, split the string into a list of strings using the space delimiter. Count the frequency of each word in the string in a dictionary. Strip the periods, line breaks and commas from the text. Make sure to remove empty strings from your dictionary."
   ]
  },
  {
   "cell_type": "code",
   "execution_count": 135,
   "metadata": {
    "id": "5kCqHBEUkUKA"
   },
   "outputs": [
    {
     "name": "stdout",
     "output_type": "stream",
     "text": [
      "['Some', 'say', 'the', 'world', 'will', 'end', 'in', 'fire,', 'Some', 'say', 'in', 'ice.', 'From', 'what', 'I’ve', 'tasted', 'of', 'desire', 'I', 'hold', 'with', 'those', 'who', 'favor', 'fire.', 'But', 'if', 'it', 'had', 'to', 'perish', 'twice,', 'I', 'think', 'I', 'know', 'enough', 'of', 'hate', 'To', 'say', 'that', 'for', 'destruction', 'ice', 'Is', 'also', 'great', 'And', 'would', 'suffice.']\n",
      "Some say the world will end in fire Some say in ice From what I’ve tasted of desire I hold with those who favor fire But if it had to perish twice I think I know enough of hate To say that for destruction ice Is also great And would suffice\n",
      "['Some', 'say', 'the', 'world', 'will', 'end', 'in', 'fire', 'Some', 'say', 'in', 'ice', 'From', 'what', 'I’ve', 'tasted', 'of', 'desire', 'I', 'hold', 'with', 'those', 'who', 'favor', 'fire', 'But', 'if', 'it', 'had', 'to', 'perish', 'twice', 'I', 'think', 'I', 'know', 'enough', 'of', 'hate', 'To', 'say', 'that', 'for', 'destruction', 'ice', 'Is', 'also', 'great', 'And', 'would', 'suffice']\n",
      "{'what', 'world', 'say', 'great', 'Some', 'I’ve', 'hate', 'Is', 'it', 'hold', 'fire', 'in', 'To', 'desire', 'if', 'think', 'But', 'twice', 'And', 'From', 'ice', 'also', 'end', 'would', 'with', 'to', 'suffice', 'the', 'those', 'destruction', 'will', 'of', 'had', 'perish', 'enough', 'who', 'tasted', 'favor', 'know', 'for', 'that', 'I'}\n",
      "['what', 'world', 'say', 'great', 'Some', 'I’ve', 'hate', 'Is', 'it', 'hold', 'fire', 'in', 'To', 'desire', 'if', 'think', 'But', 'twice', 'And', 'From', 'ice', 'also', 'end', 'would', 'with', 'to', 'suffice', 'the', 'those', 'destruction', 'will', 'of', 'had', 'perish', 'enough', 'who', 'tasted', 'favor', 'know', 'for', 'that', 'I']\n",
      "\n",
      "RESPOSTA:  ['what', 'world', 'say', 'great', 'Some', 'I’ve', 'hate', 'Is', 'hold', 'fire', 'To', 'desire', 'if', 'think', 'But', 'twice', 'And', 'From', 'ice', 'also', 'end', 'would', 'with', 'to', 'suffice', 'those', 'destruction', 'will', 'of', 'had', 'perish', 'enough', 'who', 'tasted', 'favor', 'know', 'for', 'that', 'I']\n"
     ]
    }
   ],
   "source": [
    "poem = \"\"\"Some say the world will end in fire,\n",
    "Some say in ice.\n",
    "From what I’ve tasted of desire\n",
    "I hold with those who favor fire.\n",
    "But if it had to perish twice,\n",
    "I think I know enough of hate\n",
    "To say that for destruction ice\n",
    "Is also great\n",
    "And would suffice.\"\"\"\n",
    "\n",
    "\n",
    "a= poem.split()\n",
    "print(a)\n",
    "\n",
    "b=' '.join(a)\n",
    "b = b.replace(',', '')\n",
    "b = b.replace('.', '')\n",
    "print(b)\n",
    "\n",
    "c= b.split()\n",
    "print(c)\n"
   ]
  },
  {
   "cell_type": "markdown",
   "metadata": {
    "id": "84q3YtTEkUKC"
   },
   "source": [
    "In the cell below, find all the words that appear in the text and do not appear in the blacklist. You must parse the string but can choose any data structure you wish for the words that do not appear in the blacklist. Remove all non letter characters and convert all words to lower case."
   ]
  },
  {
   "cell_type": "code",
   "execution_count": 114,
   "metadata": {
    "id": "Xx0iP3skkUKE"
   },
   "outputs": [
    {
     "name": "stdout",
     "output_type": "stream",
     "text": [
      "['I', 'was', 'angry', 'with', 'my', 'friend;', 'I', 'told', 'my', 'wrath,', 'my', 'wrath', 'did', 'end.', 'I', 'was', 'angry', 'with', 'my', 'foe:', 'I', 'told', 'it', 'not,', 'my', 'wrath', 'did', 'grow.', 'And', 'I', 'waterd', 'it', 'in', 'fears,', 'Night', '&', 'morning', 'with', 'my', 'tears:', 'And', 'I', 'sunned', 'it', 'with', 'smiles,', 'And', 'with', 'soft', 'deceitful', 'wiles.', 'And', 'it', 'grew', 'both', 'day', 'and', 'night.', 'Till', 'it', 'bore', 'an', 'apple', 'bright.', 'And', 'my', 'foe', 'beheld', 'it', 'shine,', 'And', 'he', 'knew', 'that', 'it', 'was', 'mine.', 'And', 'into', 'my', 'garden', 'stole,', 'When', 'the', 'night', 'had', 'veild', 'the', 'pole;', 'In', 'the', 'morning', 'glad', 'I', 'see;', 'My', 'foe', 'outstretched', 'beneath', 'the', 'tree.']\n",
      "I was angry with my friend; I told my wrath my wrath did end I was angry with my foe: I told it not my wrath did grow And I waterd it in fears Night & morning with my tears: And I sunned it with smiles And with soft deceitful wiles And it grew both day and night Till it bore an apple bright And my foe beheld it shine And he knew that it was mine And into my garden stole When the night had veild the pole; In the morning glad I see; My foe outstretched beneath the tree\n",
      "['I', 'was', 'angry', 'with', 'my', 'friend;', 'I', 'told', 'my', 'wrath', 'my', 'wrath', 'did', 'end', 'I', 'was', 'angry', 'with', 'my', 'foe:', 'I', 'told', 'it', 'not', 'my', 'wrath', 'did', 'grow', 'And', 'I', 'waterd', 'it', 'in', 'fears', 'Night', '&', 'morning', 'with', 'my', 'tears:', 'And', 'I', 'sunned', 'it', 'with', 'smiles', 'And', 'with', 'soft', 'deceitful', 'wiles', 'And', 'it', 'grew', 'both', 'day', 'and', 'night', 'Till', 'it', 'bore', 'an', 'apple', 'bright', 'And', 'my', 'foe', 'beheld', 'it', 'shine', 'And', 'he', 'knew', 'that', 'it', 'was', 'mine', 'And', 'into', 'my', 'garden', 'stole', 'When', 'the', 'night', 'had', 'veild', 'the', 'pole;', 'In', 'the', 'morning', 'glad', 'I', 'see;', 'My', 'foe', 'outstretched', 'beneath', 'the', 'tree']\n",
      "{'glad', 'beneath', 'outstretched', 'tree', 'beheld', 'and', 'grew', 'When', 'friend;', 'My', 'not', 'wrath', 'tears:', 'it', 'mine', 'angry', 'in', 'sunned', 'pole;', 'was', 'soft', 'my', 'deceitful', 'And', 'morning', 'stole', 'told', 'end', 'with', 'both', 'shine', 'the', 'Night', 'into', 'an', 'Till', 'had', 'fears', 'did', 'day', 'bright', 'he', 'smiles', 'knew', 'veild', 'garden', 'night', 'wiles', 'grow', 'waterd', 'bore', '&', 'foe', 'that', 'apple', 'In', 'foe:', 'see;', 'I'}\n",
      "['glad', 'beneath', 'outstretched', 'tree', 'beheld', 'and', 'grew', 'When', 'friend;', 'My', 'not', 'wrath', 'tears:', 'it', 'mine', 'angry', 'in', 'sunned', 'pole;', 'was', 'soft', 'my', 'deceitful', 'And', 'morning', 'stole', 'told', 'end', 'with', 'both', 'shine', 'the', 'Night', 'into', 'an', 'Till', 'had', 'fears', 'did', 'day', 'bright', 'he', 'smiles', 'knew', 'veild', 'garden', 'night', 'wiles', 'grow', 'waterd', 'bore', '&', 'foe', 'that', 'apple', 'In', 'foe:', 'see;', 'I']\n",
      "\n",
      "RESPOSTA:  ['glad', 'beneath', 'outstretched', 'tree', 'beheld', 'grew', 'When', 'friend;', 'My', 'not', 'wrath', 'tears:', 'mine', 'angry', 'sunned', 'pole;', 'was', 'soft', 'my', 'deceitful', 'And', 'morning', 'stole', 'told', 'end', 'with', 'both', 'shine', 'Night', 'into', 'Till', 'had', 'fears', 'did', 'day', 'bright', 'he', 'smiles', 'knew', 'veild', 'garden', 'night', 'wiles', 'grow', 'waterd', 'bore', '&', 'foe', 'that', 'apple', 'In', 'foe:', 'see;', 'I']\n"
     ]
    }
   ],
   "source": [
    "from collections import Counter\n",
    "\n",
    "\n",
    "blacklist = ['and', 'as', 'an', 'a', 'the', 'in', 'it']\n",
    "\n",
    "poem = \"\"\"I was angry with my friend; \n",
    "I told my wrath, my wrath did end.\n",
    "I was angry with my foe: \n",
    "I told it not, my wrath did grow. \n",
    "\n",
    "And I waterd it in fears,\n",
    "Night & morning with my tears: \n",
    "And I sunned it with smiles,\n",
    "And with soft deceitful wiles. \n",
    "\n",
    "And it grew both day and night. \n",
    "Till it bore an apple bright. \n",
    "And my foe beheld it shine,\n",
    "And he knew that it was mine. \n",
    "\n",
    "And into my garden stole, \n",
    "When the night had veild the pole; \n",
    "In the morning glad I see; \n",
    "My foe outstretched beneath the tree.\"\"\"\n",
    "\n",
    "a= poem.split()\n",
    "print(a)\n",
    "\n",
    "b=' '.join(a)\n",
    "b = b.replace(',', '')\n",
    "b = b.replace('.', '')\n",
    "print(b)\n",
    "\n",
    "c= b.split()\n",
    "print(c)\n",
    "\n",
    "set1=set(c)\n",
    "print(set1)\n",
    "\n",
    "newlist=list(set1)\n",
    "print(newlist)\n",
    "\n",
    "result = list((Counter(newlist) - Counter(blacklist)).elements())\n",
    "\n",
    "print('\\nRESPOSTA: ', result)"
   ]
  },
  {
   "cell_type": "markdown",
   "metadata": {
    "id": "LKji8o7ayAba"
   },
   "source": [
    "# Regex\n",
    "\n",
    "Obtain a list containing all phone numbers in the text below:\n",
    "\n",
    "Note: there should be 5 of them.\n"
   ]
  },
  {
   "cell_type": "code",
   "execution_count": 139,
   "metadata": {
    "id": "wM4v-225yBNP"
   },
   "outputs": [
    {
     "name": "stdout",
     "output_type": "stream",
     "text": [
      "[]\n",
      "None\n"
     ]
    }
   ],
   "source": [
    "text = \"\"\"\n",
    "Henry's phone number is 9789-0984\n",
    "Darlene's phone number is 4222-0901\n",
    "Andrew's phone number is 4312-5701\n",
    "James' phone number is 9413 1383\n",
    "Erica's phone number is 8993-1031\n",
    "\"\"\"\n",
    "\n",
    "def detect_numbers(text):\n",
    "    phone_regex = re.compile(r\"(\\+420)?\\s*?(\\d{3})\\s*?(\\d{3})\\s*?(\\d{3})\")\n",
    "    print(phone_regex.findall(text))\n",
    "\n",
    "print(detect_numbers(phon))\n",
    "\n",
    "\n",
    "\n"
   ]
  },
  {
   "cell_type": "markdown",
   "metadata": {
    "id": "N7UZNc5lxSzZ"
   },
   "source": [
    "\n",
    "In the cell below, filter the list provided and return all elements of the list containing a number. To filter the list, use the re.search function. Check if the function does not return None. You can read more about the re.search function here."
   ]
  },
  {
   "cell_type": "code",
   "execution_count": null,
   "metadata": {
    "id": "EzUBZKGqxX-A"
   },
   "outputs": [],
   "source": [
    "data = ['123abc', 'abc123', 'JohnSmith1', 'ABBY4', 'JANE']\n",
    "\n",
    "\n",
    "\n",
    "\n",
    "# Your code here:\n"
   ]
  },
  {
   "cell_type": "markdown",
   "metadata": {
    "id": "A2T86JzMwoLT"
   },
   "source": [
    "# Bonus Challenge - Regular Expressions \n",
    "\n",
    "In the cell below, filter the list provided to keep only strings containing at least one digit and at least one lower case letter. As in the previous question, use the `re.search` function and check that the result is not `None`.\n",
    "\n",
    "To read more about regular expressions, check out [this link](https://developers.google.com/edu/python/regular-expressions)."
   ]
  },
  {
   "cell_type": "code",
   "execution_count": null,
   "metadata": {
    "id": "rcVk3Gabwomy"
   },
   "outputs": [],
   "source": [
    "data = ['123abc', 'abc123', 'JohnSmith1', 'ABBY4', 'JANE']\n",
    "# Your code here:"
   ]
  },
  {
   "cell_type": "markdown",
   "metadata": {
    "id": "RTzGOO_Hxj5C"
   },
   "source": [
    "# Bonus for Nerds\n",
    "Given a list of reviews, a list of keywords and an integer k. Find the most popular k keywords in order of most to least frequently mentioned.\n",
    "\n",
    "The comparison of strings is case-insensitive. Multiple occurances of a keyword in a review should be considred as a single mention.\n",
    "\n",
    "Example Input:"
   ]
  },
  {
   "cell_type": "markdown",
   "metadata": {
    "id": "Q_gsUz83xpGj"
   },
   "source": [
    "```python\n",
    "k = 2\n",
    "keywords = [\"anacell\", \"cetracular\", \"betacellular\"]\n",
    "reviews = [\n",
    "  \"Anacell provides the best services in the city whereas betacellular is the best of the world\",\n",
    "  \"cetracular has awesome services, cetracular is good, cetracular is awesome!\",\n",
    "  \"Best services provided by anacell, everyone should use anacell\",\n",
    "  \"Wow, betacellular services are good.\",\n",
    "]\n",
    "\n",
    "Expected Output:\n",
    "\n",
    "[\"anacell\", \"betacellular\"]\n",
    "\n",
    "# Explanation:\n",
    "# \"anacell\" and \"betacellular\" are occuring in 2 different reviews and \"cetracular\" is only occuring in 1 review, despite having so many repetitions.\n",
    "# The order doesnt matter for now\n",
    "\n",
    "```"
   ]
  },
  {
   "cell_type": "code",
   "execution_count": 39,
   "metadata": {
    "id": "wn2ai6_6xl0P"
   },
   "outputs": [
    {
     "name": "stdout",
     "output_type": "stream",
     "text": [
      "<function area at 0x0000021725B39550>\n"
     ]
    }
   ],
   "source": []
  },
  {
   "cell_type": "code",
   "execution_count": null,
   "metadata": {
    "id": "E5mFox81GNeL"
   },
   "outputs": [],
   "source": []
  }
 ],
 "metadata": {
  "colab": {
   "collapsed_sections": [],
   "name": "main.ipynb",
   "provenance": []
  },
  "kernelspec": {
   "display_name": "Python 3",
   "language": "python",
   "name": "python3"
  },
  "language_info": {
   "codemirror_mode": {
    "name": "ipython",
    "version": 3
   },
   "file_extension": ".py",
   "mimetype": "text/x-python",
   "name": "python",
   "nbconvert_exporter": "python",
   "pygments_lexer": "ipython3",
   "version": "3.8.5"
  },
  "toc": {
   "base_numbering": 1,
   "nav_menu": {},
   "number_sections": true,
   "sideBar": true,
   "skip_h1_title": false,
   "title_cell": "Table of Contents",
   "title_sidebar": "Contents",
   "toc_cell": false,
   "toc_position": {},
   "toc_section_display": true,
   "toc_window_display": false
  },
  "varInspector": {
   "cols": {
    "lenName": 16,
    "lenType": 16,
    "lenVar": 40
   },
   "kernels_config": {
    "python": {
     "delete_cmd_postfix": "",
     "delete_cmd_prefix": "del ",
     "library": "var_list.py",
     "varRefreshCmd": "print(var_dic_list())"
    },
    "r": {
     "delete_cmd_postfix": ") ",
     "delete_cmd_prefix": "rm(",
     "library": "var_list.r",
     "varRefreshCmd": "cat(var_dic_list()) "
    }
   },
   "types_to_exclude": [
    "module",
    "function",
    "builtin_function_or_method",
    "instance",
    "_Feature"
   ],
   "window_display": false
  }
 },
 "nbformat": 4,
 "nbformat_minor": 1
}
