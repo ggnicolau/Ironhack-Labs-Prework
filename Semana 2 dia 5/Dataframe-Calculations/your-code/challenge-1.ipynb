{
 "cells": [
  {
   "cell_type": "markdown",
   "metadata": {
    "id": "0MTRmLX08SMU"
   },
   "source": [
    "![Ironhack logo](https://i.imgur.com/1QgrNNw.png)\n",
    "\n",
    "# Lab | Dataframe Calculation and Transformation\n",
    "\n",
    "## Introduction\n",
    "\n",
    "We have learned the basics of dataframe calculation, aggregation, and summarization in the lesson. In this lab you will practice the functions covered in the lessons and learn more advanced ones by solving a series of challenges.\n",
    "\n",
    "In this lab we also want you to focus on refining your problem-solving process in addition to completing the challenges. Data analysis is an iterative problem-solving process. You will need to break down a complex problem into a subset of less complex problems, then tackle each sub problems in a progressive order. You may need to further break down the sub problems into sub-sub problems and so on so forth depending on the complexity of those problems. You will keep breaking down the problems until you are able to solve each of them.\n",
    "\n",
    "During the problem-solving process, you are required to constantly test your solutions and reflect on your goals and problem-solving strategies. You may be required to revise the problem-solving strategies and sometimes redefine the problem subsets based on your latest discoveries.\n",
    "\n",
    "Keep in mind the general guidelines above when you conduct data analysis in this lab and in the future. You need to learn this scientific research methodology if you want to become a successful data analyst. For a detailed explanation of the iterative data analysis workflow, watch [this YouTube video](https://www.youtube.com/watch?v=xOomNicqbkk).\n",
    "\n",
    "**You are required to watch the above video before proceeding.**\n",
    "\n",
    "\n",
    "## Resources\n",
    "\n",
    "[Data Analysis Iteration](https://www.youtube.com/watch?v=xOomNicqbkk)\n",
    "\n",
    "[Pokemon with Stats](https://www.kaggle.com/abcsds/pokemon)\n",
    "\n",
    "[Google Search: get all numeric columns in dataframe](https://www.google.com/search?q=pandas+dataframe+get+all+numeric+columns)\n",
    "\n",
    "[One Hot Encoding](https://hackernoon.com/what-is-one-hot-encoding-why-and-when-do-you-have-to-use-it-e3c6186d008f)\n"
   ]
  },
  {
   "cell_type": "markdown",
   "metadata": {
    "id": "YprRZ7IW8LX7"
   },
   "source": [
    "# Challenge 1\n",
    "\n",
    "In this challenge you will be working on **Pokemon**. You will answer a series of questions in order to practice dataframe calculation, aggregation, and transformation.\n",
    "\n",
    "![Pokemon](../images/pokemon.jpg)\n",
    "\n",
    "Follow the instructions below and enter your code.\n",
    "\n",
    "#### Import all required libraries."
   ]
  },
  {
   "cell_type": "code",
   "execution_count": 1,
   "metadata": {
    "ExecuteTime": {
     "end_time": "2021-04-03T15:18:34.975241Z",
     "start_time": "2021-04-03T15:18:34.239211Z"
    },
    "id": "FQ45qOdA8LX_"
   },
   "outputs": [],
   "source": [
    "import numpy as np\n",
    "import pandas as pd"
   ]
  },
  {
   "cell_type": "markdown",
   "metadata": {
    "id": "AYtKdUYG8LYK"
   },
   "source": [
    "#### Import data set.\n",
    "\n",
    "Import data set `Pokemon`. Read the data into a dataframe called `pokemon`.\n",
    "\n",
    "*Data set attributed to [Alberto Barradas](https://www.kaggle.com/abcsds/pokemon/)*"
   ]
  },
  {
   "cell_type": "code",
   "execution_count": 2,
   "metadata": {
    "ExecuteTime": {
     "end_time": "2021-04-03T15:18:34.987234Z",
     "start_time": "2021-04-03T15:18:34.976239Z"
    },
    "id": "9c17t_ty8LYL"
   },
   "outputs": [],
   "source": [
    "pokemon = pd.read_csv('C:/Users/user/1.IRONHACK/Ironhack Labs/Semana 2 dia 5/Dataframe-Calculations/data/pokemon.csv')"
   ]
  },
  {
   "cell_type": "markdown",
   "metadata": {
    "id": "twUYPGzC8LYR"
   },
   "source": [
    "#### Print first 10 rows of `pokemon`.\n",
    "\n",
    "Expected output:\n",
    "    \n",
    ">\n",
    ">|    |   # | Name                      | Type 1   | Type 2   |   Total |   HP |   Attack |   Defense |   Sp. Atk |   Sp. Def |   Speed |   Generation | Legendary   |\n",
    "|---:|----:|:--------------------------|:---------|:---------|--------:|-----:|---------:|----------:|----------:|----------:|--------:|-------------:|:------------|\n",
    "|  0 |   1 | Bulbasaur                 | Grass    | Poison   |     318 |   45 |       49 |        49 |        65 |        65 |      45 |            1 | False       |\n",
    "|  1 |   2 | Ivysaur                   | Grass    | Poison   |     405 |   60 |       62 |        63 |        80 |        80 |      60 |            1 | False       |\n",
    "|  2 |   3 | Venusaur                  | Grass    | Poison   |     525 |   80 |       82 |        83 |       100 |       100 |      80 |            1 | False       |\n",
    "|  3 |   3 | VenusaurMega Venusaur     | Grass    | Poison   |     625 |   80 |      100 |       123 |       122 |       120 |      80 |            1 | False       |\n",
    "|  4 |   4 | Charmander                | Fire     | nan      |     309 |   39 |       52 |        43 |        60 |        50 |      65 |            1 | False       |\n",
    "|  5 |   5 | Charmeleon                | Fire     | nan      |     405 |   58 |       64 |        58 |        80 |        65 |      80 |            1 | False       |\n",
    "|  6 |   6 | Charizard                 | Fire     | Flying   |     534 |   78 |       84 |        78 |       109 |        85 |     100 |            1 | False       |\n",
    "|  7 |   6 | CharizardMega Charizard X | Fire     | Dragon   |     634 |   78 |      130 |       111 |       130 |        85 |     100 |            1 | False       |\n",
    "|  8 |   6 | CharizardMega Charizard Y | Fire     | Flying   |     634 |   78 |      104 |        78 |       159 |       115 |     100 |            1 | False       |\n",
    "|  9 |   7 | Squirtle                  | Water    | nan      |     314 |   44 |       48 |        65 |        50 |        64 |      43 |            1 | False       |"
   ]
  },
  {
   "cell_type": "code",
   "execution_count": 6,
   "metadata": {
    "ExecuteTime": {
     "end_time": "2021-04-03T15:18:42.477095Z",
     "start_time": "2021-04-03T15:18:42.464130Z"
    },
    "id": "XttQx0Yx8LYS"
   },
   "outputs": [
    {
     "data": {
      "text/html": [
       "<div>\n",
       "<style scoped>\n",
       "    .dataframe tbody tr th:only-of-type {\n",
       "        vertical-align: middle;\n",
       "    }\n",
       "\n",
       "    .dataframe tbody tr th {\n",
       "        vertical-align: top;\n",
       "    }\n",
       "\n",
       "    .dataframe thead th {\n",
       "        text-align: right;\n",
       "    }\n",
       "</style>\n",
       "<table border=\"1\" class=\"dataframe\">\n",
       "  <thead>\n",
       "    <tr style=\"text-align: right;\">\n",
       "      <th></th>\n",
       "      <th>#</th>\n",
       "      <th>Name</th>\n",
       "      <th>Type 1</th>\n",
       "      <th>Type 2</th>\n",
       "      <th>Total</th>\n",
       "      <th>HP</th>\n",
       "      <th>Attack</th>\n",
       "      <th>Defense</th>\n",
       "      <th>Sp. Atk</th>\n",
       "      <th>Sp. Def</th>\n",
       "      <th>Speed</th>\n",
       "      <th>Generation</th>\n",
       "      <th>Legendary</th>\n",
       "      <th>name_rec</th>\n",
       "    </tr>\n",
       "  </thead>\n",
       "  <tbody>\n",
       "    <tr>\n",
       "      <th>0</th>\n",
       "      <td>1</td>\n",
       "      <td>Bulbasaur</td>\n",
       "      <td>Grass</td>\n",
       "      <td>Poison</td>\n",
       "      <td>318</td>\n",
       "      <td>45</td>\n",
       "      <td>49</td>\n",
       "      <td>49</td>\n",
       "      <td>65</td>\n",
       "      <td>65</td>\n",
       "      <td>45</td>\n",
       "      <td>1</td>\n",
       "      <td>False</td>\n",
       "      <td>Bulbasaur</td>\n",
       "    </tr>\n",
       "    <tr>\n",
       "      <th>1</th>\n",
       "      <td>2</td>\n",
       "      <td>Ivysaur</td>\n",
       "      <td>Grass</td>\n",
       "      <td>Poison</td>\n",
       "      <td>405</td>\n",
       "      <td>60</td>\n",
       "      <td>62</td>\n",
       "      <td>63</td>\n",
       "      <td>80</td>\n",
       "      <td>80</td>\n",
       "      <td>60</td>\n",
       "      <td>1</td>\n",
       "      <td>False</td>\n",
       "      <td>Ivysaur</td>\n",
       "    </tr>\n",
       "    <tr>\n",
       "      <th>2</th>\n",
       "      <td>3</td>\n",
       "      <td>Venusaur</td>\n",
       "      <td>Grass</td>\n",
       "      <td>Poison</td>\n",
       "      <td>525</td>\n",
       "      <td>80</td>\n",
       "      <td>82</td>\n",
       "      <td>83</td>\n",
       "      <td>100</td>\n",
       "      <td>100</td>\n",
       "      <td>80</td>\n",
       "      <td>1</td>\n",
       "      <td>False</td>\n",
       "      <td>Venusaur</td>\n",
       "    </tr>\n",
       "    <tr>\n",
       "      <th>3</th>\n",
       "      <td>3</td>\n",
       "      <td>VenusaurMega Venusaur</td>\n",
       "      <td>Grass</td>\n",
       "      <td>Poison</td>\n",
       "      <td>625</td>\n",
       "      <td>80</td>\n",
       "      <td>100</td>\n",
       "      <td>123</td>\n",
       "      <td>122</td>\n",
       "      <td>120</td>\n",
       "      <td>80</td>\n",
       "      <td>1</td>\n",
       "      <td>False</td>\n",
       "      <td>Mega Venusaur</td>\n",
       "    </tr>\n",
       "    <tr>\n",
       "      <th>4</th>\n",
       "      <td>4</td>\n",
       "      <td>Charmander</td>\n",
       "      <td>Fire</td>\n",
       "      <td>NaN</td>\n",
       "      <td>309</td>\n",
       "      <td>39</td>\n",
       "      <td>52</td>\n",
       "      <td>43</td>\n",
       "      <td>60</td>\n",
       "      <td>50</td>\n",
       "      <td>65</td>\n",
       "      <td>1</td>\n",
       "      <td>False</td>\n",
       "      <td>Charmander</td>\n",
       "    </tr>\n",
       "    <tr>\n",
       "      <th>5</th>\n",
       "      <td>5</td>\n",
       "      <td>Charmeleon</td>\n",
       "      <td>Fire</td>\n",
       "      <td>NaN</td>\n",
       "      <td>405</td>\n",
       "      <td>58</td>\n",
       "      <td>64</td>\n",
       "      <td>58</td>\n",
       "      <td>80</td>\n",
       "      <td>65</td>\n",
       "      <td>80</td>\n",
       "      <td>1</td>\n",
       "      <td>False</td>\n",
       "      <td>Charmeleon</td>\n",
       "    </tr>\n",
       "    <tr>\n",
       "      <th>6</th>\n",
       "      <td>6</td>\n",
       "      <td>Charizard</td>\n",
       "      <td>Fire</td>\n",
       "      <td>Flying</td>\n",
       "      <td>534</td>\n",
       "      <td>78</td>\n",
       "      <td>84</td>\n",
       "      <td>78</td>\n",
       "      <td>109</td>\n",
       "      <td>85</td>\n",
       "      <td>100</td>\n",
       "      <td>1</td>\n",
       "      <td>False</td>\n",
       "      <td>Charizard</td>\n",
       "    </tr>\n",
       "    <tr>\n",
       "      <th>7</th>\n",
       "      <td>6</td>\n",
       "      <td>CharizardMega Charizard X</td>\n",
       "      <td>Fire</td>\n",
       "      <td>Dragon</td>\n",
       "      <td>634</td>\n",
       "      <td>78</td>\n",
       "      <td>130</td>\n",
       "      <td>111</td>\n",
       "      <td>130</td>\n",
       "      <td>85</td>\n",
       "      <td>100</td>\n",
       "      <td>1</td>\n",
       "      <td>False</td>\n",
       "      <td>Mega Charizard X</td>\n",
       "    </tr>\n",
       "    <tr>\n",
       "      <th>8</th>\n",
       "      <td>6</td>\n",
       "      <td>CharizardMega Charizard Y</td>\n",
       "      <td>Fire</td>\n",
       "      <td>Flying</td>\n",
       "      <td>634</td>\n",
       "      <td>78</td>\n",
       "      <td>104</td>\n",
       "      <td>78</td>\n",
       "      <td>159</td>\n",
       "      <td>115</td>\n",
       "      <td>100</td>\n",
       "      <td>1</td>\n",
       "      <td>False</td>\n",
       "      <td>Mega Charizard Y</td>\n",
       "    </tr>\n",
       "    <tr>\n",
       "      <th>9</th>\n",
       "      <td>7</td>\n",
       "      <td>Squirtle</td>\n",
       "      <td>Water</td>\n",
       "      <td>NaN</td>\n",
       "      <td>314</td>\n",
       "      <td>44</td>\n",
       "      <td>48</td>\n",
       "      <td>65</td>\n",
       "      <td>50</td>\n",
       "      <td>64</td>\n",
       "      <td>43</td>\n",
       "      <td>1</td>\n",
       "      <td>False</td>\n",
       "      <td>Squirtle</td>\n",
       "    </tr>\n",
       "    <tr>\n",
       "      <th>10</th>\n",
       "      <td>8</td>\n",
       "      <td>Wartortle</td>\n",
       "      <td>Water</td>\n",
       "      <td>NaN</td>\n",
       "      <td>405</td>\n",
       "      <td>59</td>\n",
       "      <td>63</td>\n",
       "      <td>80</td>\n",
       "      <td>65</td>\n",
       "      <td>80</td>\n",
       "      <td>58</td>\n",
       "      <td>1</td>\n",
       "      <td>False</td>\n",
       "      <td>Wartortle</td>\n",
       "    </tr>\n",
       "  </tbody>\n",
       "</table>\n",
       "</div>"
      ],
      "text/plain": [
       "    #                       Name Type 1  Type 2  Total  HP  Attack  Defense  \\\n",
       "0   1                  Bulbasaur  Grass  Poison    318  45      49       49   \n",
       "1   2                    Ivysaur  Grass  Poison    405  60      62       63   \n",
       "2   3                   Venusaur  Grass  Poison    525  80      82       83   \n",
       "3   3      VenusaurMega Venusaur  Grass  Poison    625  80     100      123   \n",
       "4   4                 Charmander   Fire     NaN    309  39      52       43   \n",
       "5   5                 Charmeleon   Fire     NaN    405  58      64       58   \n",
       "6   6                  Charizard   Fire  Flying    534  78      84       78   \n",
       "7   6  CharizardMega Charizard X   Fire  Dragon    634  78     130      111   \n",
       "8   6  CharizardMega Charizard Y   Fire  Flying    634  78     104       78   \n",
       "9   7                   Squirtle  Water     NaN    314  44      48       65   \n",
       "10  8                  Wartortle  Water     NaN    405  59      63       80   \n",
       "\n",
       "    Sp. Atk  Sp. Def  Speed  Generation  Legendary          name_rec  \n",
       "0        65       65     45           1      False         Bulbasaur  \n",
       "1        80       80     60           1      False           Ivysaur  \n",
       "2       100      100     80           1      False          Venusaur  \n",
       "3       122      120     80           1      False     Mega Venusaur  \n",
       "4        60       50     65           1      False        Charmander  \n",
       "5        80       65     80           1      False        Charmeleon  \n",
       "6       109       85    100           1      False         Charizard  \n",
       "7       130       85    100           1      False  Mega Charizard X  \n",
       "8       159      115    100           1      False  Mega Charizard Y  \n",
       "9        50       64     43           1      False          Squirtle  \n",
       "10       65       80     58           1      False         Wartortle  "
      ]
     },
     "execution_count": 6,
     "metadata": {},
     "output_type": "execute_result"
    }
   ],
   "source": [
    "pokemon.head(11)\n",
    "\n"
   ]
  },
  {
   "cell_type": "markdown",
   "metadata": {
    "id": "y5T7a1_i8LYW"
   },
   "source": [
    "When you look at a data set, you often wonder what each column means. Some open-source data sets provide descriptions of the data set. In many cases, data descriptions are extremely useful for data analysts to perform work efficiently and successfully.\n",
    "\n",
    "For the `Pokemon.csv` data set, fortunately, the owner provided descriptions which you can see [here](https://www.kaggle.com/abcsds/pokemon/home). For your convenience, we are including the descriptions below. Read the descriptions and understand what each column means. This knowledge is helpful in your work with the data.\n",
    "\n",
    "| Column | Description |\n",
    "| --- | --- |\n",
    "| # | ID for each pokemon |\n",
    "| Name | Name of each pokemon |\n",
    "| Type 1 | Each pokemon has a type, this determines weakness/resistance to attacks |\n",
    "| Type 2 | Some pokemon are dual type and have 2 |\n",
    "| Total | A general guide to how strong a pokemon is |\n",
    "| HP | Hit points, or health, defines how much damage a pokemon can withstand before fainting |\n",
    "| Attack | The base modifier for normal attacks (eg. Scratch, Punch) |\n",
    "| Defense | The base damage resistance against normal attacks |\n",
    "| SP Atk | Special attack, the base modifier for special attacks (e.g. fire blast, bubble beam) |\n",
    "| SP Def | The base damage resistance against special attacks |\n",
    "| Speed | Determines which pokemon attacks first each round |\n",
    "| Generation | Number of generation |\n",
    "| Legendary | True if Legendary Pokemon False if not |"
   ]
  },
  {
   "cell_type": "markdown",
   "metadata": {
    "id": "njrwrcZ08LYW"
   },
   "source": [
    "#### Obtain the distinct values across `Type 1` and `Type 2`.\n",
    "\n",
    "Exctract all the values in `Type 1` and `Type 2`. Then create an array containing the distinct values across both fields."
   ]
  },
  {
   "cell_type": "code",
   "execution_count": 4,
   "metadata": {
    "ExecuteTime": {
     "end_time": "2021-04-03T15:18:35.024112Z",
     "start_time": "2021-04-03T15:18:35.012143Z"
    },
    "id": "wD2GbbV38LYX"
   },
   "outputs": [
    {
     "data": {
      "text/plain": [
       "array(['Grass', 'Poison', 'Fire', nan, 'Flying', 'Dragon', 'Water', 'Bug',\n",
       "       'Normal', 'Electric', 'Ground', 'Fairy', 'Fighting', 'Psychic',\n",
       "       'Rock', 'Steel', 'Ice', 'Ghost', 'Dark'], dtype=object)"
      ]
     },
     "execution_count": 4,
     "metadata": {},
     "output_type": "execute_result"
    }
   ],
   "source": [
    "#1)\n",
    "new_array = pokemon[['Type 1', 'Type 2']].to_numpy()\n",
    "my_set = {e for l in new_array for e in l}\n",
    "my_set\n",
    "#)2\n",
    "new_array = pokemon[['Type 1', 'Type 2']].to_numpy()\n",
    "my_set = set()\n",
    "for l in new_array:\n",
    "    for e in l:\n",
    "        my_set.add(e)\n",
    "#3)        \n",
    "my_set = set()\n",
    "for l in new_array:\n",
    "    my_set.update(l)\n",
    "my_set\n",
    "#4)\n",
    "my_set = pd.unique(pokemon[['Type 1', 'Type 2']].values.ravel())\n",
    "my_set\n",
    "\n",
    "\n",
    "#5)\n",
    "#pokemon[['Type 1', 'Type 2']]\n",
    "#pokemon[['Type 1', 'Type 2']].to_numpy()\n",
    "#6)\n",
    "#type1 = pokemon[{'Type 1':[]}]\n",
    "#type2 = pokemon[{'Type 2':[]}]\n",
    "#[type1[:]]\n",
    "#[type2[:]]\n",
    "#type1 = type1[[\"Type 1\"]].to_numpy()\n",
    "#type2 = type2[[\"Type 2\"]].to_numpy()\n",
    "#type1\n",
    "\n",
    "#type1 = type1.to_numpy()\n",
    "#type2 = type2.to_numpy()\n",
    "#print(type2)\n",
    "\n",
    "#type1.as_matrix(columns=type1.columns[:])\n",
    "\n",
    "#7) uniqueValues = (pokemon['Type 1'].append(pokemon['Type 2'])).unique()\n",
    "#uniqueValues\n",
    "\n",
    "#9) uniqueValues2 = (set(pokemon['Type 1']).union(set(pokemon['Type 2'])))\n",
    "#uniqueValues2\n",
    "\n"
   ]
  },
  {
   "cell_type": "markdown",
   "metadata": {
    "id": "VUf4KB0t8LYc"
   },
   "source": [
    "#### Cleanup `Name` that contain \"Mega\".\n",
    "\n",
    "If you have checked out the pokemon names carefully enough, you should have found there are junk texts in the pokemon names which contain \"Mega\". We want to clean up the pokemon names. For instance, \"VenusaurMega Venusaur\" should be \"Mega Venusaur\", and \"CharizardMega Charizard X\" should be \"Mega Charizard X\".\n",
    "\n",
    "**Example of output (You can create a new column or reassign the column 'Name'):**\n",
    "\n",
    ">\n",
    ">|    |   # | Name                  | Type 1   | Type 2   |   Total |   HP |   Attack |   Defense |   Sp. Atk |   Sp. Def |   Speed |   Generation | Legendary   | name_rec      |\n",
    "|---:|----:|:----------------------|:---------|:---------|--------:|-----:|---------:|----------:|----------:|----------:|--------:|-------------:|:------------|:--------------|\n",
    "|  0 |   1 | Bulbasaur             | Grass    | Poison   |     318 |   45 |       49 |        49 |        65 |        65 |      45 |            1 | False       | Bulbasaur     |\n",
    "|  1 |   2 | Ivysaur               | Grass    | Poison   |     405 |   60 |       62 |        63 |        80 |        80 |      60 |            1 | False       | Ivysaur       |\n",
    "|  2 |   3 | Venusaur              | Grass    | Poison   |     525 |   80 |       82 |        83 |       100 |       100 |      80 |            1 | False       | Venusaur      |\n",
    "|  3 |   3 | VenusaurMega Venusaur | Grass    | Poison   |     625 |   80 |      100 |       123 |       122 |       120 |      80 |            1 | False       | Mega Venusaur |\n",
    "|  4 |   4 | Charmander            | Fire     | nan      |     309 |   39 |       52 |        43 |        60 |        50 |      65 |            1 | False       | Charmander    |\n",
    "|  ... |  ... |  ... |  ... |  ... |  ... |  ... |  ... |  ... |  ... |  ... |  ... |  ... |  ... |  ... |"
   ]
  },
  {
   "cell_type": "code",
   "execution_count": 5,
   "metadata": {
    "ExecuteTime": {
     "end_time": "2021-04-03T15:18:35.729224Z",
     "start_time": "2021-04-03T15:18:35.025108Z"
    },
    "id": "zGAQEaQf8LYc"
   },
   "outputs": [
    {
     "ename": "NameError",
     "evalue": "name 're' is not defined",
     "output_type": "error",
     "traceback": [
      "\u001b[1;31m---------------------------------------------------------------------------\u001b[0m",
      "\u001b[1;31mNameError\u001b[0m                                 Traceback (most recent call last)",
      "\u001b[1;32m<ipython-input-5-51b9038338e8>\u001b[0m in \u001b[0;36m<module>\u001b[1;34m\u001b[0m\n\u001b[0;32m      3\u001b[0m \u001b[0mpokemon\u001b[0m\u001b[1;33m[\u001b[0m\u001b[1;34m'name_rec'\u001b[0m\u001b[1;33m]\u001b[0m \u001b[1;33m=\u001b[0m \u001b[0mpokemon\u001b[0m\u001b[1;33m[\u001b[0m\u001b[1;34m'Name'\u001b[0m\u001b[1;33m]\u001b[0m\u001b[1;33m.\u001b[0m\u001b[0mstr\u001b[0m\u001b[1;33m.\u001b[0m\u001b[0mreplace\u001b[0m\u001b[1;33m(\u001b[0m\u001b[1;34m\".*(?=Mega)\"\u001b[0m\u001b[1;33m,\u001b[0m \u001b[1;34m\"\"\u001b[0m\u001b[1;33m)\u001b[0m\u001b[1;33m\u001b[0m\u001b[1;33m\u001b[0m\u001b[0m\n\u001b[0;32m      4\u001b[0m \u001b[0mpokemon\u001b[0m\u001b[1;33m[\u001b[0m\u001b[1;34m'name_rec'\u001b[0m\u001b[1;33m]\u001b[0m \u001b[1;33m=\u001b[0m \u001b[0mpokemon\u001b[0m\u001b[1;33m[\u001b[0m\u001b[1;34m'Name'\u001b[0m\u001b[1;33m]\u001b[0m\u001b[1;33m.\u001b[0m\u001b[0mstr\u001b[0m\u001b[1;33m.\u001b[0m\u001b[0mreplace\u001b[0m\u001b[1;33m(\u001b[0m\u001b[1;34m'.*Mega'\u001b[0m\u001b[1;33m,\u001b[0m \u001b[1;34m'Mega'\u001b[0m\u001b[1;33m)\u001b[0m\u001b[1;33m\u001b[0m\u001b[1;33m\u001b[0m\u001b[0m\n\u001b[1;32m----> 5\u001b[1;33m \u001b[0mpokemon\u001b[0m\u001b[1;33m[\u001b[0m\u001b[1;34m'name_rec'\u001b[0m\u001b[1;33m]\u001b[0m \u001b[1;33m=\u001b[0m \u001b[1;33m[\u001b[0m\u001b[0mre\u001b[0m\u001b[1;33m.\u001b[0m\u001b[0msub\u001b[0m\u001b[1;33m(\u001b[0m\u001b[1;34m'\\w*Mega'\u001b[0m\u001b[1;33m,\u001b[0m \u001b[1;34m'Mega'\u001b[0m\u001b[1;33m,\u001b[0m \u001b[0mword\u001b[0m\u001b[1;33m)\u001b[0m \u001b[1;32mfor\u001b[0m \u001b[0mword\u001b[0m \u001b[1;32min\u001b[0m \u001b[0mpokemon\u001b[0m\u001b[1;33m[\u001b[0m\u001b[1;34m'Name'\u001b[0m\u001b[1;33m]\u001b[0m\u001b[1;33m]\u001b[0m\u001b[1;33m\u001b[0m\u001b[1;33m\u001b[0m\u001b[0m\n\u001b[0m\u001b[0;32m      6\u001b[0m \u001b[0mpokemon\u001b[0m\u001b[1;33m.\u001b[0m\u001b[0mhead\u001b[0m\u001b[1;33m(\u001b[0m\u001b[1;36m10\u001b[0m\u001b[1;33m)\u001b[0m\u001b[1;33m\u001b[0m\u001b[1;33m\u001b[0m\u001b[0m\n\u001b[0;32m      7\u001b[0m \u001b[1;33m\u001b[0m\u001b[0m\n",
      "\u001b[1;32m<ipython-input-5-51b9038338e8>\u001b[0m in \u001b[0;36m<listcomp>\u001b[1;34m(.0)\u001b[0m\n\u001b[0;32m      3\u001b[0m \u001b[0mpokemon\u001b[0m\u001b[1;33m[\u001b[0m\u001b[1;34m'name_rec'\u001b[0m\u001b[1;33m]\u001b[0m \u001b[1;33m=\u001b[0m \u001b[0mpokemon\u001b[0m\u001b[1;33m[\u001b[0m\u001b[1;34m'Name'\u001b[0m\u001b[1;33m]\u001b[0m\u001b[1;33m.\u001b[0m\u001b[0mstr\u001b[0m\u001b[1;33m.\u001b[0m\u001b[0mreplace\u001b[0m\u001b[1;33m(\u001b[0m\u001b[1;34m\".*(?=Mega)\"\u001b[0m\u001b[1;33m,\u001b[0m \u001b[1;34m\"\"\u001b[0m\u001b[1;33m)\u001b[0m\u001b[1;33m\u001b[0m\u001b[1;33m\u001b[0m\u001b[0m\n\u001b[0;32m      4\u001b[0m \u001b[0mpokemon\u001b[0m\u001b[1;33m[\u001b[0m\u001b[1;34m'name_rec'\u001b[0m\u001b[1;33m]\u001b[0m \u001b[1;33m=\u001b[0m \u001b[0mpokemon\u001b[0m\u001b[1;33m[\u001b[0m\u001b[1;34m'Name'\u001b[0m\u001b[1;33m]\u001b[0m\u001b[1;33m.\u001b[0m\u001b[0mstr\u001b[0m\u001b[1;33m.\u001b[0m\u001b[0mreplace\u001b[0m\u001b[1;33m(\u001b[0m\u001b[1;34m'.*Mega'\u001b[0m\u001b[1;33m,\u001b[0m \u001b[1;34m'Mega'\u001b[0m\u001b[1;33m)\u001b[0m\u001b[1;33m\u001b[0m\u001b[1;33m\u001b[0m\u001b[0m\n\u001b[1;32m----> 5\u001b[1;33m \u001b[0mpokemon\u001b[0m\u001b[1;33m[\u001b[0m\u001b[1;34m'name_rec'\u001b[0m\u001b[1;33m]\u001b[0m \u001b[1;33m=\u001b[0m \u001b[1;33m[\u001b[0m\u001b[0mre\u001b[0m\u001b[1;33m.\u001b[0m\u001b[0msub\u001b[0m\u001b[1;33m(\u001b[0m\u001b[1;34m'\\w*Mega'\u001b[0m\u001b[1;33m,\u001b[0m \u001b[1;34m'Mega'\u001b[0m\u001b[1;33m,\u001b[0m \u001b[0mword\u001b[0m\u001b[1;33m)\u001b[0m \u001b[1;32mfor\u001b[0m \u001b[0mword\u001b[0m \u001b[1;32min\u001b[0m \u001b[0mpokemon\u001b[0m\u001b[1;33m[\u001b[0m\u001b[1;34m'Name'\u001b[0m\u001b[1;33m]\u001b[0m\u001b[1;33m]\u001b[0m\u001b[1;33m\u001b[0m\u001b[1;33m\u001b[0m\u001b[0m\n\u001b[0m\u001b[0;32m      6\u001b[0m \u001b[0mpokemon\u001b[0m\u001b[1;33m.\u001b[0m\u001b[0mhead\u001b[0m\u001b[1;33m(\u001b[0m\u001b[1;36m10\u001b[0m\u001b[1;33m)\u001b[0m\u001b[1;33m\u001b[0m\u001b[1;33m\u001b[0m\u001b[0m\n\u001b[0;32m      7\u001b[0m \u001b[1;33m\u001b[0m\u001b[0m\n",
      "\u001b[1;31mNameError\u001b[0m: name 're' is not defined"
     ]
    }
   ],
   "source": [
    "# your code here\n",
    "#pokemon.info()\n",
    "pokemon['name_rec'] = pokemon['Name'].str.replace(\".*(?=Mega)\", \"\")\n",
    "pokemon['name_rec'] = pokemon['Name'].str.replace('.*Mega', 'Mega')\n",
    "pokemon['name_rec'] = [re.sub('\\w*Mega', 'Mega', word) for word in pokemon['Name']]\n",
    "pokemon.head(10)\n",
    "\n",
    "\n",
    "# test transformed data\n",
    "#pokemon.head(10)"
   ]
  },
  {
   "cell_type": "markdown",
   "metadata": {
    "id": "hkP4BpQY8LYg"
   },
   "source": [
    "#### Create a new column called `A/D Ratio` whose value equals to `Attack` devided by `Defense`.\n",
    "\n",
    "For instance, if a pokemon has the Attack score 49 and Defense score 49, the corresponding `A/D Ratio` is 49/49=1.\n",
    "\n",
    "Expected output:\n",
    "\n",
    ">\n",
    ">|    |   # | Name      | Type 1   | Type 2   |   Total |   HP |   Attack |   Defense |   Sp. Atk |   Sp. Def |   Speed |   Generation | Legendary   | name_rec   |   A/D Ratio |\n",
    "|---:|----:|:----------|:---------|:---------|--------:|-----:|---------:|----------:|----------:|----------:|--------:|-------------:|:------------|:-----------|------------:|\n",
    "|  0 |   1 | Bulbasaur | Grass    | Poison   |     318 |   45 |       49 |        49 |        65 |        65 |      45 |            1 | False       | Bulbasaur  |    1        |\n",
    "|  1 |   2 | Ivysaur   | Grass    | Poison   |     405 |   60 |       62 |        63 |        80 |        80 |      60 |            1 | False       | Ivysaur    |    0.984127 |\n",
    "| ... | ... | ... | ... | ... | ... | ... | ... | ... | ... | ... | ... | ... | ... | ... | ... |"
   ]
  },
  {
   "cell_type": "code",
   "execution_count": null,
   "metadata": {
    "ExecuteTime": {
     "end_time": "2021-04-03T15:18:35.732217Z",
     "start_time": "2021-04-03T15:18:34.259Z"
    },
    "id": "qVMSbrfs8LYh"
   },
   "outputs": [],
   "source": [
    "pokemon[\"A/D Ratio\"] = pokemon[\"Attack\"]/pokemon[\"Defense\"]\n",
    "ratio = pokemon[\"A/D Ratio\"]\n",
    "ratio"
   ]
  },
  {
   "cell_type": "markdown",
   "metadata": {
    "id": "AZoRillP8LYo"
   },
   "source": [
    "#### Identify the pokemon with the highest `A/D Ratio`."
   ]
  },
  {
   "cell_type": "code",
   "execution_count": null,
   "metadata": {
    "ExecuteTime": {
     "end_time": "2021-04-03T15:18:35.734213Z",
     "start_time": "2021-04-03T15:18:34.262Z"
    },
    "id": "ufkh8NBd8LYq",
    "scrolled": true
   },
   "outputs": [],
   "source": [
    "pokemon[\"A/D Ratio\"].describe()\n",
    "column = pokemon[\"A/D Ratio\"]\n",
    "max_value = column.max()\n",
    "print(max_value)\n",
    "\n",
    "max_index = column.idxmax()\n",
    "print(max_index)\n",
    "print(pokemon.index[429])\n",
    "\n",
    "pokemon.loc[[429]]\n",
    "\n",
    "\n",
    "\n",
    "#novo = pd.pokemon({\"A/D Ratio\":[]})\n",
    "#column = pokemon[\"A/D Ratio\"]\n",
    "#max_value = column.max() get max value from \"A/D Ratio\"\n",
    "#print(max_value)\n",
    "\n"
   ]
  },
  {
   "cell_type": "markdown",
   "metadata": {
    "id": "MxiHdh3t8LYu"
   },
   "source": [
    "#### Identify the pokemon with the lowest A/D Ratio."
   ]
  },
  {
   "cell_type": "code",
   "execution_count": null,
   "metadata": {
    "ExecuteTime": {
     "end_time": "2021-04-03T15:18:35.735209Z",
     "start_time": "2021-04-03T15:18:34.266Z"
    },
    "id": "bdKb9Vqh8LYw"
   },
   "outputs": [],
   "source": [
    "pokemon[\"A/D Ratio\"].describe()\n",
    "column2 = pokemon[\"A/D Ratio\"]\n",
    "min_value = column2.min()\n",
    "print(min_value)\n",
    "\n",
    "min_index = column2.idxmin()\n",
    "print(min_index)\n",
    "print(pokemon.index[230])\n",
    "\n",
    "pokemon.loc[[230]]"
   ]
  },
  {
   "cell_type": "markdown",
   "metadata": {
    "id": "ZK0Toi6P8LYz"
   },
   "source": [
    "#### Create a new column called `Combo Type` whose value combines `Type 1` and `Type 2`.\n",
    "\n",
    "Rules:\n",
    "\n",
    "* If both `Type 1` and `Type 2` have valid values, the `Combo Type` value should contain both values in the form of `<Type 1> <Type 2>`. For example, if `Type 1` value is `Grass` and `Type 2` value is `Poison`, `Combo Type` will be `Grass-Poison`.\n",
    "\n",
    "* If `Type 1` has valid value but `Type 2` is not, `Combo Type` will be the same as `Type 1`. For example, if `Type 1` is `Fire` whereas `Type 2` is `NaN`, `Combo Type` will be `Fire`.\n",
    "\n",
    "Expected output:\n",
    "\n",
    ">\n",
    ">|    |   # | Name      | Type 1   | Type 2   |   Total |   HP |   Attack |   Defense |   Sp. Atk |   Sp. Def |   Speed |   Generation | Legendary   | name_rec   |   A/D Ratio | Combo Type   |\n",
    "|---:|----:|:----------|:---------|:---------|--------:|-----:|---------:|----------:|----------:|----------:|--------:|-------------:|:------------|:-----------|------------:|:-------------|\n",
    "|  0 |   1 | Bulbasaur | Grass    | Poison   |     318 |   45 |       49 |        49 |        65 |        65 |      45 |            1 | False       | Bulbasaur  |    1        | Grass-Poison |\n",
    "|  1 |   2 | Ivysaur   | Grass    | Poison   |     405 |   60 |       62 |        63 |        80 |        80 |      60 |            1 | False       | Ivysaur    |    0.984127 | Grass-Poison |\n",
    "| ... | ... | ... | ... | ... | ... | ... | ... | ... | ... | ... | ... | ... | ... | ... | ... | ... |"
   ]
  },
  {
   "cell_type": "code",
   "execution_count": null,
   "metadata": {
    "ExecuteTime": {
     "end_time": "2021-04-03T15:18:35.737205Z",
     "start_time": "2021-04-03T15:18:34.270Z"
    },
    "id": "ZxNWFpXz8LY0"
   },
   "outputs": [],
   "source": [
    "pokemon['Type 1']+'-'+pokemon['Type 2']\n",
    "#pokemon['Type 2'].isnull()\n",
    "\n",
    "\n",
    "pokemon['Combo Type'] = np.where(pokemon['Type 2'].isnull(), pokemon['Type 1'], pokemon['Type 1']+'-'+pokemon['Type 2'])\n",
    "pokemon"
   ]
  },
  {
   "cell_type": "code",
   "execution_count": null,
   "metadata": {
    "ExecuteTime": {
     "end_time": "2021-04-03T15:18:35.739199Z",
     "start_time": "2021-04-03T15:18:34.273Z"
    }
   },
   "outputs": [],
   "source": [
    "#(pokemon['Type 1'] == pokemon['Type 2']).value_counts()\n"
   ]
  },
  {
   "cell_type": "markdown",
   "metadata": {
    "id": "rw4yVx8Q8LY3"
   },
   "source": [
    "#### Identify the pokemon whose `A/D Ratio` are among the top 5.\n",
    "\n",
    "Expected output:\n",
    "    \n",
    ">\n",
    ">|     |   # | Name                  | Type 1   | Type 2   |   Total |   HP |   Attack |   Defense |   Sp. Atk |   Sp. Def |   Speed |   Generation | Legendary   | name_rec           |   A/D Ratio | Combo Type   |\n",
    "|----:|----:|:----------------------|:---------|:---------|--------:|-----:|---------:|----------:|----------:|----------:|--------:|-------------:|:------------|:-------------------|------------:|:-------------|\n",
    "| 429 | 386 | DeoxysAttack Forme    | Psychic  | nan      |     600 |   50 |      180 |        20 |       180 |        20 |     150 |            3 | True        | DeoxysAttack Forme |       9     | Psychic      |\n",
    "| 347 | 318 | Carvanha              | Water    | Dark     |     305 |   45 |       90 |        20 |        65 |        20 |      65 |            3 | False       | Carvanha           |       4.5   | Dark-Water   |\n",
    "|  19 |  15 | BeedrillMega Beedrill | Bug      | Poison   |     495 |   65 |      150 |        40 |        15 |        80 |     145 |            1 | False       | Mega Beedrill      |       3.75  | Bug-Poison   |\n",
    "| 453 | 408 | Cranidos              | Rock     | nan      |     350 |   67 |      125 |        40 |        30 |        30 |      58 |            4 | False       | Cranidos           |       3.125 | Rock         |\n",
    "| 348 | 319 | Sharpedo              | Water    | Dark     |     460 |   70 |      120 |        40 |        95 |        40 |      95 |            3 | False       | Sharpedo           |       3     | Dark-Water   |"
   ]
  },
  {
   "cell_type": "code",
   "execution_count": null,
   "metadata": {
    "ExecuteTime": {
     "end_time": "2021-04-03T15:18:35.740196Z",
     "start_time": "2021-04-03T15:18:34.276Z"
    },
    "id": "aPgRYpP_8LY5"
   },
   "outputs": [],
   "source": [
    "pokemon['A/D Ratio'].value_counts().head(5)\n",
    "\n",
    "pokemon_top5 = pokemon.nlargest(5,['A/D Ratio'])\n",
    "pokemon_top5\n",
    "\n",
    "#pokemon=(['A/D Ratio']).head(5)"
   ]
  },
  {
   "cell_type": "markdown",
   "metadata": {
    "id": "BM0BB1nk8LY_"
   },
   "source": [
    "#### For the 5 pokemon printed above, aggregate `Combo Type` and use a list to store the unique values.\n",
    "\n",
    "Your end product is a list containing the distinct `Combo Type` values of the 5 pokemon with the highest `A/D Ratio`."
   ]
  },
  {
   "cell_type": "code",
   "execution_count": null,
   "metadata": {
    "ExecuteTime": {
     "end_time": "2021-04-03T15:18:35.741193Z",
     "start_time": "2021-04-03T15:18:34.278Z"
    },
    "id": "orrSyGxI8LZA"
   },
   "outputs": [],
   "source": [
    "new_array2 = pokemon_top5[['Combo Type']].to_numpy()\n",
    "pokemon_top5_combo = {e for l in new_array2 for e in l}\n",
    "pokemon_top5_combo\n",
    "pokemon_top5_combo = list(pokemon_top5_combo)\n",
    "pokemon_top5_combo\n",
    "#pokemon_top5['Combo Type']"
   ]
  },
  {
   "cell_type": "markdown",
   "metadata": {
    "id": "vuaKIeFl8LZJ"
   },
   "source": [
    "#### For each of the `Combo Type` values obtained from the previous question, calculate the mean scores of all numeric fields across all pokemon.\n",
    "\n",
    "Your output should look like below:\n",
    "\n",
    "![Aggregate](../images/aggregated-mean.png)"
   ]
  },
  {
   "cell_type": "code",
   "execution_count": null,
   "metadata": {
    "ExecuteTime": {
     "end_time": "2021-04-03T15:18:35.742192Z",
     "start_time": "2021-04-03T15:18:34.283Z"
    },
    "id": "f-IZ4Lhs8LZL"
   },
   "outputs": [],
   "source": [
    "pokemon_top5.groupby('Combo Type').mean()"
   ]
  },
  {
   "cell_type": "code",
   "execution_count": null,
   "metadata": {},
   "outputs": [],
   "source": []
  }
 ],
 "metadata": {
  "colab": {
   "collapsed_sections": [],
   "name": "challenge-1.ipynb",
   "provenance": []
  },
  "kernelspec": {
   "display_name": "Python 3",
   "language": "python",
   "name": "python3"
  },
  "language_info": {
   "codemirror_mode": {
    "name": "ipython",
    "version": 3
   },
   "file_extension": ".py",
   "mimetype": "text/x-python",
   "name": "python",
   "nbconvert_exporter": "python",
   "pygments_lexer": "ipython3",
   "version": "3.8.5"
  },
  "toc": {
   "base_numbering": 1,
   "nav_menu": {},
   "number_sections": true,
   "sideBar": true,
   "skip_h1_title": false,
   "title_cell": "Table of Contents",
   "title_sidebar": "Contents",
   "toc_cell": false,
   "toc_position": {},
   "toc_section_display": true,
   "toc_window_display": false
  },
  "varInspector": {
   "cols": {
    "lenName": 16,
    "lenType": 16,
    "lenVar": 40
   },
   "kernels_config": {
    "python": {
     "delete_cmd_postfix": "",
     "delete_cmd_prefix": "del ",
     "library": "var_list.py",
     "varRefreshCmd": "print(var_dic_list())"
    },
    "r": {
     "delete_cmd_postfix": ") ",
     "delete_cmd_prefix": "rm(",
     "library": "var_list.r",
     "varRefreshCmd": "cat(var_dic_list()) "
    }
   },
   "types_to_exclude": [
    "module",
    "function",
    "builtin_function_or_method",
    "instance",
    "_Feature"
   ],
   "window_display": false
  }
 },
 "nbformat": 4,
 "nbformat_minor": 1
}
