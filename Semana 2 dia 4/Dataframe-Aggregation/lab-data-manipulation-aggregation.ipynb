{
 "cells": [
  {
   "cell_type": "markdown",
   "metadata": {
    "colab_type": "text",
    "id": "POEIAidnx9c_"
   },
   "source": [
    "# Lab-Data-Manipulation - Group By and Joins"
   ]
  },
  {
   "cell_type": "code",
   "execution_count": 55,
   "metadata": {
    "ExecuteTime": {
     "end_time": "2021-04-01T17:52:10.613774Z",
     "start_time": "2021-04-01T17:52:10.297644Z"
    },
    "colab": {},
    "colab_type": "code",
    "id": "glDk4Evj7LIK"
   },
   "outputs": [],
   "source": [
    "# setup from last exercise\n",
    "\n",
    "import pandas as pd\n",
    "\n",
    "ufo = pd.read_csv('/Users/user/1.IRONHACK/Ironhack Labs/Semana 2 dia 4/Dataframe-Aggregation/data/ufo.csv', sep = ';')\n",
    "ufo\n",
    "ufo_vars = ufo.loc[:, ['year', 'month', 'state', 'country', 'ufo_shape', 'encounter_length']]\n",
    "ufo_us = ufo_vars.loc[ufo_vars['country'] == 'us', :]"
   ]
  },
  {
   "cell_type": "markdown",
   "metadata": {
    "colab_type": "text",
    "id": "RZWjmeRHx9dB"
   },
   "source": [
    "The second part of this lab consists of grouping and merging results to obtain valuable information."
   ]
  },
  {
   "cell_type": "markdown",
   "metadata": {
    "colab_type": "text",
    "id": "qWFvQILBx9dC"
   },
   "source": [
    "# Grouping up the results. "
   ]
  },
  {
   "cell_type": "markdown",
   "metadata": {
    "colab_type": "text",
    "id": "rSS9Z4Atx9dD"
   },
   "source": [
    "## Let's calculate the average of the encounter for each country.\n",
    "\n",
    "We should now group the results by the country column to see what is the mean encounter_seconds for each country. Do this using the `groupby` method of your dataframe `ufo_vars`. What is the average of the encounter for the us? And for Canada?\n",
    "\n",
    "Remember that after grouping by a column, you have to specify a `aggregating function`. If you don't do that, the results of the groupby will only be a `groupby` pandas object. For this case, we want the aggregating function to be the `mean` function and then the results will appear for us.\n",
    "\n",
    "Also remember that **if you don't** specify the `as_index=False` argument, the variables you use to group are going to become your new indexes.\n",
    "\n",
    "Expected output:\n",
    "\n",
    ">\n",
    ">|    | country   |    year |   month |   encounter_seconds |\n",
    "|---:|:----------|--------:|--------:|--------------------:|\n",
    "|  0 | au        | 2002.69 | 6.12825 |             3806.47 |\n",
    "|  1 | ca        | 2003.69 | 6.86167 |            28859.43 |\n",
    "|  2 | de        | 2001.54 | 6.24762 |            24255.98 |\n",
    "|  3 | gb        | 2003.65 | 6.5622  |            66061.32 |\n",
    "|  4 | us        | 2004.09 | 6.8616  |             5800.19 |"
   ]
  },
  {
   "cell_type": "code",
   "execution_count": 2,
   "metadata": {
    "ExecuteTime": {
     "end_time": "2021-04-01T14:04:55.901948Z",
     "start_time": "2021-04-01T14:04:55.865047Z"
    },
    "colab": {},
    "colab_type": "code",
    "id": "pF0idJjzx9dE"
   },
   "outputs": [
    {
     "data": {
      "text/html": [
       "<div>\n",
       "<style scoped>\n",
       "    .dataframe tbody tr th:only-of-type {\n",
       "        vertical-align: middle;\n",
       "    }\n",
       "\n",
       "    .dataframe tbody tr th {\n",
       "        vertical-align: top;\n",
       "    }\n",
       "\n",
       "    .dataframe thead th {\n",
       "        text-align: right;\n",
       "    }\n",
       "</style>\n",
       "<table border=\"1\" class=\"dataframe\">\n",
       "  <thead>\n",
       "    <tr style=\"text-align: right;\">\n",
       "      <th></th>\n",
       "      <th>country</th>\n",
       "      <th>year</th>\n",
       "      <th>month</th>\n",
       "      <th>encounter_length</th>\n",
       "    </tr>\n",
       "  </thead>\n",
       "  <tbody>\n",
       "    <tr>\n",
       "      <th>0</th>\n",
       "      <td>au</td>\n",
       "      <td>2002.693309</td>\n",
       "      <td>6.128253</td>\n",
       "      <td>3806.469238</td>\n",
       "    </tr>\n",
       "    <tr>\n",
       "      <th>1</th>\n",
       "      <td>ca</td>\n",
       "      <td>2003.694333</td>\n",
       "      <td>6.861667</td>\n",
       "      <td>28859.437007</td>\n",
       "    </tr>\n",
       "    <tr>\n",
       "      <th>2</th>\n",
       "      <td>de</td>\n",
       "      <td>2001.542857</td>\n",
       "      <td>6.247619</td>\n",
       "      <td>24255.980952</td>\n",
       "    </tr>\n",
       "    <tr>\n",
       "      <th>3</th>\n",
       "      <td>gb</td>\n",
       "      <td>2003.648294</td>\n",
       "      <td>6.562205</td>\n",
       "      <td>66061.321207</td>\n",
       "    </tr>\n",
       "    <tr>\n",
       "      <th>4</th>\n",
       "      <td>us</td>\n",
       "      <td>2004.090057</td>\n",
       "      <td>6.861597</td>\n",
       "      <td>5800.192049</td>\n",
       "    </tr>\n",
       "  </tbody>\n",
       "</table>\n",
       "</div>"
      ],
      "text/plain": [
       "  country         year     month  encounter_length\n",
       "0      au  2002.693309  6.128253       3806.469238\n",
       "1      ca  2003.694333  6.861667      28859.437007\n",
       "2      de  2001.542857  6.247619      24255.980952\n",
       "3      gb  2003.648294  6.562205      66061.321207\n",
       "4      us  2004.090057  6.861597       5800.192049"
      ]
     },
     "execution_count": 2,
     "metadata": {},
     "output_type": "execute_result"
    }
   ],
   "source": [
    "\n",
    "\n",
    "ufo_vars.groupby(['country'], as_index=False).mean()\n"
   ]
  },
  {
   "cell_type": "code",
   "execution_count": 3,
   "metadata": {
    "ExecuteTime": {
     "end_time": "2021-04-01T14:04:55.921895Z",
     "start_time": "2021-04-01T14:04:55.904941Z"
    }
   },
   "outputs": [
    {
     "data": {
      "text/html": [
       "<div>\n",
       "<style scoped>\n",
       "    .dataframe tbody tr th:only-of-type {\n",
       "        vertical-align: middle;\n",
       "    }\n",
       "\n",
       "    .dataframe tbody tr th {\n",
       "        vertical-align: top;\n",
       "    }\n",
       "\n",
       "    .dataframe thead th {\n",
       "        text-align: right;\n",
       "    }\n",
       "</style>\n",
       "<table border=\"1\" class=\"dataframe\">\n",
       "  <thead>\n",
       "    <tr style=\"text-align: right;\">\n",
       "      <th></th>\n",
       "      <th>year</th>\n",
       "      <th>month</th>\n",
       "      <th>state</th>\n",
       "      <th>country</th>\n",
       "      <th>ufo_shape</th>\n",
       "      <th>encounter_seconds</th>\n",
       "    </tr>\n",
       "  </thead>\n",
       "  <tbody>\n",
       "    <tr>\n",
       "      <th>0</th>\n",
       "      <td>1949</td>\n",
       "      <td>10</td>\n",
       "      <td>tx</td>\n",
       "      <td>us</td>\n",
       "      <td>cylinder</td>\n",
       "      <td>2700.0</td>\n",
       "    </tr>\n",
       "    <tr>\n",
       "      <th>1</th>\n",
       "      <td>1949</td>\n",
       "      <td>10</td>\n",
       "      <td>tx</td>\n",
       "      <td>NaN</td>\n",
       "      <td>light</td>\n",
       "      <td>7200.0</td>\n",
       "    </tr>\n",
       "    <tr>\n",
       "      <th>2</th>\n",
       "      <td>1955</td>\n",
       "      <td>10</td>\n",
       "      <td>NaN</td>\n",
       "      <td>gb</td>\n",
       "      <td>circle</td>\n",
       "      <td>20.0</td>\n",
       "    </tr>\n",
       "    <tr>\n",
       "      <th>3</th>\n",
       "      <td>1956</td>\n",
       "      <td>10</td>\n",
       "      <td>tx</td>\n",
       "      <td>us</td>\n",
       "      <td>circle</td>\n",
       "      <td>20.0</td>\n",
       "    </tr>\n",
       "    <tr>\n",
       "      <th>4</th>\n",
       "      <td>1960</td>\n",
       "      <td>10</td>\n",
       "      <td>hi</td>\n",
       "      <td>us</td>\n",
       "      <td>light</td>\n",
       "      <td>900.0</td>\n",
       "    </tr>\n",
       "    <tr>\n",
       "      <th>...</th>\n",
       "      <td>...</td>\n",
       "      <td>...</td>\n",
       "      <td>...</td>\n",
       "      <td>...</td>\n",
       "      <td>...</td>\n",
       "      <td>...</td>\n",
       "    </tr>\n",
       "    <tr>\n",
       "      <th>80327</th>\n",
       "      <td>2013</td>\n",
       "      <td>9</td>\n",
       "      <td>tn</td>\n",
       "      <td>us</td>\n",
       "      <td>light</td>\n",
       "      <td>600.0</td>\n",
       "    </tr>\n",
       "    <tr>\n",
       "      <th>80328</th>\n",
       "      <td>2013</td>\n",
       "      <td>9</td>\n",
       "      <td>id</td>\n",
       "      <td>us</td>\n",
       "      <td>circle</td>\n",
       "      <td>1200.0</td>\n",
       "    </tr>\n",
       "    <tr>\n",
       "      <th>80329</th>\n",
       "      <td>2013</td>\n",
       "      <td>9</td>\n",
       "      <td>ca</td>\n",
       "      <td>us</td>\n",
       "      <td>other</td>\n",
       "      <td>1200.0</td>\n",
       "    </tr>\n",
       "    <tr>\n",
       "      <th>80330</th>\n",
       "      <td>2013</td>\n",
       "      <td>9</td>\n",
       "      <td>va</td>\n",
       "      <td>us</td>\n",
       "      <td>circle</td>\n",
       "      <td>5.0</td>\n",
       "    </tr>\n",
       "    <tr>\n",
       "      <th>80331</th>\n",
       "      <td>2013</td>\n",
       "      <td>9</td>\n",
       "      <td>ok</td>\n",
       "      <td>us</td>\n",
       "      <td>cigar</td>\n",
       "      <td>1020.0</td>\n",
       "    </tr>\n",
       "  </tbody>\n",
       "</table>\n",
       "<p>80332 rows × 6 columns</p>\n",
       "</div>"
      ],
      "text/plain": [
       "       year  month state country ufo_shape  encounter_seconds\n",
       "0      1949     10    tx      us  cylinder             2700.0\n",
       "1      1949     10    tx     NaN     light             7200.0\n",
       "2      1955     10   NaN      gb    circle               20.0\n",
       "3      1956     10    tx      us    circle               20.0\n",
       "4      1960     10    hi      us     light              900.0\n",
       "...     ...    ...   ...     ...       ...                ...\n",
       "80327  2013      9    tn      us     light              600.0\n",
       "80328  2013      9    id      us    circle             1200.0\n",
       "80329  2013      9    ca      us     other             1200.0\n",
       "80330  2013      9    va      us    circle                5.0\n",
       "80331  2013      9    ok      us     cigar             1020.0\n",
       "\n",
       "[80332 rows x 6 columns]"
      ]
     },
     "execution_count": 3,
     "metadata": {},
     "output_type": "execute_result"
    }
   ],
   "source": [
    "ufo_vars = ufo_vars.rename({'encounter_length': 'encounter_seconds'}, axis=1)\n",
    "ufo_vars\n"
   ]
  },
  {
   "cell_type": "markdown",
   "metadata": {
    "colab_type": "text",
    "id": "6h4dwqIcx9dL"
   },
   "source": [
    "## Perform the same task, but instead of calculating the mean, count how many occurrances for each country.\n",
    "\n",
    "For this case, the aggregating function should be the `count` function. Try to understand the results for each column.\n",
    "\n",
    "Expected output:\n",
    "\n",
    ">\n",
    ">|    | country   |   year |   month |   state |   ufo_shape |   encounter_seconds |\n",
    "|---:|:----------|-------:|--------:|--------:|------------:|--------------------:|\n",
    "|  0 | au        |    538 |     538 |      10 |         527 |                 538 |\n",
    "|  1 | ca        |   3000 |    3000 |    2985 |        2955 |                3000 |\n",
    "|  2 | de        |    105 |     105 |       0 |         103 |                 105 |\n",
    "|  3 | gb        |   1905 |    1905 |      12 |        1855 |                1905 |\n",
    "|  4 | us        |  65114 |   65114 |   65114 |       63561 |               65112 |"
   ]
  },
  {
   "cell_type": "code",
   "execution_count": 4,
   "metadata": {
    "ExecuteTime": {
     "end_time": "2021-04-01T14:04:55.956801Z",
     "start_time": "2021-04-01T14:04:55.926883Z"
    },
    "colab": {},
    "colab_type": "code",
    "id": "TMmxniPzx9dM"
   },
   "outputs": [
    {
     "data": {
      "text/html": [
       "<div>\n",
       "<style scoped>\n",
       "    .dataframe tbody tr th:only-of-type {\n",
       "        vertical-align: middle;\n",
       "    }\n",
       "\n",
       "    .dataframe tbody tr th {\n",
       "        vertical-align: top;\n",
       "    }\n",
       "\n",
       "    .dataframe thead th {\n",
       "        text-align: right;\n",
       "    }\n",
       "</style>\n",
       "<table border=\"1\" class=\"dataframe\">\n",
       "  <thead>\n",
       "    <tr style=\"text-align: right;\">\n",
       "      <th></th>\n",
       "      <th>country</th>\n",
       "      <th>year</th>\n",
       "      <th>month</th>\n",
       "      <th>state</th>\n",
       "      <th>ufo_shape</th>\n",
       "      <th>encounter_seconds</th>\n",
       "    </tr>\n",
       "  </thead>\n",
       "  <tbody>\n",
       "    <tr>\n",
       "      <th>0</th>\n",
       "      <td>au</td>\n",
       "      <td>538</td>\n",
       "      <td>538</td>\n",
       "      <td>10</td>\n",
       "      <td>527</td>\n",
       "      <td>538</td>\n",
       "    </tr>\n",
       "    <tr>\n",
       "      <th>1</th>\n",
       "      <td>ca</td>\n",
       "      <td>3000</td>\n",
       "      <td>3000</td>\n",
       "      <td>2985</td>\n",
       "      <td>2955</td>\n",
       "      <td>3000</td>\n",
       "    </tr>\n",
       "    <tr>\n",
       "      <th>2</th>\n",
       "      <td>de</td>\n",
       "      <td>105</td>\n",
       "      <td>105</td>\n",
       "      <td>0</td>\n",
       "      <td>103</td>\n",
       "      <td>105</td>\n",
       "    </tr>\n",
       "    <tr>\n",
       "      <th>3</th>\n",
       "      <td>gb</td>\n",
       "      <td>1905</td>\n",
       "      <td>1905</td>\n",
       "      <td>12</td>\n",
       "      <td>1855</td>\n",
       "      <td>1905</td>\n",
       "    </tr>\n",
       "    <tr>\n",
       "      <th>4</th>\n",
       "      <td>us</td>\n",
       "      <td>65114</td>\n",
       "      <td>65114</td>\n",
       "      <td>65114</td>\n",
       "      <td>63561</td>\n",
       "      <td>65112</td>\n",
       "    </tr>\n",
       "  </tbody>\n",
       "</table>\n",
       "</div>"
      ],
      "text/plain": [
       "  country   year  month  state  ufo_shape  encounter_seconds\n",
       "0      au    538    538     10        527                538\n",
       "1      ca   3000   3000   2985       2955               3000\n",
       "2      de    105    105      0        103                105\n",
       "3      gb   1905   1905     12       1855               1905\n",
       "4      us  65114  65114  65114      63561              65112"
      ]
     },
     "execution_count": 4,
     "metadata": {},
     "output_type": "execute_result"
    }
   ],
   "source": [
    "ufo_vars.groupby(['country'], as_index=False).count()"
   ]
  },
  {
   "cell_type": "markdown",
   "metadata": {
    "colab_type": "text",
    "id": "rlAjU9Byx9dP"
   },
   "source": [
    "## Perform the same task, but instead of calculating the mean, use the `.describe()` aggregating function to see the effects.\n",
    "\n",
    "The describe aggregating function will show you several important statistics for the grouped results, such as `mean`, `median`, `standard deviation`, `count`, `max`, `min`, and so on.\n",
    "\n",
    "*Hint: If it starts to get difficult to see the results, you can tranpose the resulting dataframe by just putting a `.T` at the end.*\n",
    "\n",
    "Expected output:\n",
    "\n",
    ">\n",
    ">|                   |   count |       mean |          std |      min |   25% |   50% |   75% |           max |\n",
    "|:------------------|--------:|-----------:|-------------:|---------:|------:|------:|------:|--------------:|\n",
    "| year              |   80332 | 2003.85    |     10.4268  | 1906     |  2001 |  2006 |  2011 | 2014          |\n",
    "| month             |   80332 |    6.83491 |      3.23486 |    1     |     4 |     7 |     9 |   12          |\n",
    "| encounter_seconds |   80329 | 9017.23    | 620228       |    0.001 |    30 |   180 |   600 |    97836000   |"
   ]
  },
  {
   "cell_type": "code",
   "execution_count": 5,
   "metadata": {
    "ExecuteTime": {
     "end_time": "2021-04-01T14:04:56.042575Z",
     "start_time": "2021-04-01T14:04:55.957799Z"
    },
    "colab": {},
    "colab_type": "code",
    "id": "o5KgjeRAx9dQ"
   },
   "outputs": [
    {
     "name": "stdout",
     "output_type": "stream",
     "text": [
      "      year                                                                  \\\n",
      "     count         mean        std     min     25%     50%     75%     max   \n",
      "0    538.0  2002.693309   8.501768  1958.0  2001.0  2004.0  2007.0  2014.0   \n",
      "1   3000.0  2003.694333   9.382976  1936.0  2002.0  2005.0  2010.0  2014.0   \n",
      "2    105.0  2001.542857  12.411245  1962.0  2000.0  2006.0  2009.0  2014.0   \n",
      "3   1905.0  2003.648294   8.406754  1943.0  2002.0  2005.0  2009.0  2014.0   \n",
      "4  65114.0  2004.090057  10.385694  1910.0  2001.0  2007.0  2011.0  2014.0   \n",
      "\n",
      "     month            ...             encounter_seconds                \\\n",
      "     count      mean  ...   75%   max             count          mean   \n",
      "0    538.0  6.128253  ...   9.0  12.0             538.0   3806.469238   \n",
      "1   3000.0  6.861667  ...   9.0  12.0            3000.0  28859.437007   \n",
      "2    105.0  6.247619  ...   8.0  12.0             105.0  24255.980952   \n",
      "3   1905.0  6.562205  ...   9.0  12.0            1905.0  66061.321207   \n",
      "4  65114.0  6.861597  ...  10.0  12.0           65112.0   5800.192049   \n",
      "\n",
      "                                                       \n",
      "            std   min   25%    50%    75%         max  \n",
      "0  5.434101e+04  0.50  30.0  180.0  600.0   1209600.0  \n",
      "1  1.511732e+06  0.02  20.0  120.0  600.0  82800000.0  \n",
      "2  1.859988e+05  2.00  30.0  180.0  600.0   1814400.0  \n",
      "3  2.314714e+06  0.30  30.0  180.0  600.0  97836000.0  \n",
      "4  4.045197e+05  0.01  30.0  180.0  600.0  66276000.0  \n",
      "\n",
      "[5 rows x 24 columns]\n",
      "                     0     1    2     3      4\n",
      "country             au    ca   de    gb     us\n",
      "year               538  3000  105  1905  65114\n",
      "month              538  3000  105  1905  65114\n",
      "state               10  2985    0    12  65114\n",
      "ufo_shape          527  2955  103  1855  63561\n",
      "encounter_seconds  538  3000  105  1905  65112\n"
     ]
    }
   ],
   "source": [
    "print(ufo_vars.groupby(['country'], as_index=False).describe())\n",
    "\n",
    "print(ufo_vars.groupby(['country'], as_index=False).count().T)"
   ]
  },
  {
   "cell_type": "markdown",
   "metadata": {
    "colab_type": "text",
    "id": "9z91bvWTx9dV"
   },
   "source": [
    "## Now, let's get deeper in the analysis and group the results not only by country. But by `country` and `year`"
   ]
  },
  {
   "cell_type": "markdown",
   "metadata": {
    "colab_type": "text",
    "id": "xs1Jci5Dx9dV"
   },
   "source": [
    "### Check the values of the mean and count for the `encounter_seconds` variable for each year. Can you see some discrepancy?\n",
    "\n",
    "*Hint*: If you want, you can use the `ufo_us` dataset just to see the results for the united states. You could also (in a hacky way) perform the filter right before the groupby operation if you wanted."
   ]
  },
  {
   "cell_type": "code",
   "execution_count": 48,
   "metadata": {
    "ExecuteTime": {
     "end_time": "2021-04-01T14:27:07.372204Z",
     "start_time": "2021-04-01T14:27:07.351261Z"
    },
    "colab": {},
    "colab_type": "code",
    "id": "7HajcC1ox9dX"
   },
   "outputs": [
    {
     "data": {
      "text/html": [
       "<div>\n",
       "<style scoped>\n",
       "    .dataframe tbody tr th:only-of-type {\n",
       "        vertical-align: middle;\n",
       "    }\n",
       "\n",
       "    .dataframe tbody tr th {\n",
       "        vertical-align: top;\n",
       "    }\n",
       "\n",
       "    .dataframe thead th {\n",
       "        text-align: right;\n",
       "    }\n",
       "</style>\n",
       "<table border=\"1\" class=\"dataframe\">\n",
       "  <thead>\n",
       "    <tr style=\"text-align: right;\">\n",
       "      <th></th>\n",
       "      <th>year</th>\n",
       "      <th>country</th>\n",
       "      <th>encounter_seconds</th>\n",
       "    </tr>\n",
       "  </thead>\n",
       "  <tbody>\n",
       "    <tr>\n",
       "      <th>0</th>\n",
       "      <td>1910</td>\n",
       "      <td>us</td>\n",
       "      <td>120.000000</td>\n",
       "    </tr>\n",
       "    <tr>\n",
       "      <th>1</th>\n",
       "      <td>1920</td>\n",
       "      <td>us</td>\n",
       "      <td>60.000000</td>\n",
       "    </tr>\n",
       "    <tr>\n",
       "      <th>2</th>\n",
       "      <td>1925</td>\n",
       "      <td>us</td>\n",
       "      <td>60.000000</td>\n",
       "    </tr>\n",
       "    <tr>\n",
       "      <th>3</th>\n",
       "      <td>1929</td>\n",
       "      <td>us</td>\n",
       "      <td>60.000000</td>\n",
       "    </tr>\n",
       "    <tr>\n",
       "      <th>4</th>\n",
       "      <td>1931</td>\n",
       "      <td>us</td>\n",
       "      <td>930.000000</td>\n",
       "    </tr>\n",
       "    <tr>\n",
       "      <th>...</th>\n",
       "      <td>...</td>\n",
       "      <td>...</td>\n",
       "      <td>...</td>\n",
       "    </tr>\n",
       "    <tr>\n",
       "      <th>277</th>\n",
       "      <td>2014</td>\n",
       "      <td>au</td>\n",
       "      <td>2197.214286</td>\n",
       "    </tr>\n",
       "    <tr>\n",
       "      <th>278</th>\n",
       "      <td>2014</td>\n",
       "      <td>ca</td>\n",
       "      <td>789.377778</td>\n",
       "    </tr>\n",
       "    <tr>\n",
       "      <th>279</th>\n",
       "      <td>2014</td>\n",
       "      <td>de</td>\n",
       "      <td>3720.000000</td>\n",
       "    </tr>\n",
       "    <tr>\n",
       "      <th>280</th>\n",
       "      <td>2014</td>\n",
       "      <td>gb</td>\n",
       "      <td>8366.761905</td>\n",
       "    </tr>\n",
       "    <tr>\n",
       "      <th>281</th>\n",
       "      <td>2014</td>\n",
       "      <td>us</td>\n",
       "      <td>782.372979</td>\n",
       "    </tr>\n",
       "  </tbody>\n",
       "</table>\n",
       "<p>282 rows × 3 columns</p>\n",
       "</div>"
      ],
      "text/plain": [
       "     year country  encounter_seconds\n",
       "0    1910      us         120.000000\n",
       "1    1920      us          60.000000\n",
       "2    1925      us          60.000000\n",
       "3    1929      us          60.000000\n",
       "4    1931      us         930.000000\n",
       "..    ...     ...                ...\n",
       "277  2014      au        2197.214286\n",
       "278  2014      ca         789.377778\n",
       "279  2014      de        3720.000000\n",
       "280  2014      gb        8366.761905\n",
       "281  2014      us         782.372979\n",
       "\n",
       "[282 rows x 3 columns]"
      ]
     },
     "execution_count": 48,
     "metadata": {},
     "output_type": "execute_result"
    }
   ],
   "source": [
    "ufo_vars.groupby(['year', 'country'], as_index=False).agg('encounter_seconds').mean()\n",
    "\n",
    "\n"
   ]
  },
  {
   "cell_type": "code",
   "execution_count": 54,
   "metadata": {
    "ExecuteTime": {
     "end_time": "2021-04-01T14:30:16.062649Z",
     "start_time": "2021-04-01T14:30:16.040707Z"
    }
   },
   "outputs": [
    {
     "data": {
      "text/html": [
       "<div>\n",
       "<style scoped>\n",
       "    .dataframe tbody tr th:only-of-type {\n",
       "        vertical-align: middle;\n",
       "    }\n",
       "\n",
       "    .dataframe tbody tr th {\n",
       "        vertical-align: top;\n",
       "    }\n",
       "\n",
       "    .dataframe thead th {\n",
       "        text-align: right;\n",
       "    }\n",
       "</style>\n",
       "<table border=\"1\" class=\"dataframe\">\n",
       "  <thead>\n",
       "    <tr style=\"text-align: right;\">\n",
       "      <th></th>\n",
       "      <th>year</th>\n",
       "      <th>country</th>\n",
       "      <th>encounter_seconds</th>\n",
       "    </tr>\n",
       "  </thead>\n",
       "  <tbody>\n",
       "    <tr>\n",
       "      <th>0</th>\n",
       "      <td>1910</td>\n",
       "      <td>us</td>\n",
       "      <td>120.000000</td>\n",
       "    </tr>\n",
       "    <tr>\n",
       "      <th>1</th>\n",
       "      <td>1920</td>\n",
       "      <td>us</td>\n",
       "      <td>60.000000</td>\n",
       "    </tr>\n",
       "    <tr>\n",
       "      <th>2</th>\n",
       "      <td>1925</td>\n",
       "      <td>us</td>\n",
       "      <td>60.000000</td>\n",
       "    </tr>\n",
       "    <tr>\n",
       "      <th>3</th>\n",
       "      <td>1929</td>\n",
       "      <td>us</td>\n",
       "      <td>60.000000</td>\n",
       "    </tr>\n",
       "    <tr>\n",
       "      <th>4</th>\n",
       "      <td>1931</td>\n",
       "      <td>us</td>\n",
       "      <td>930.000000</td>\n",
       "    </tr>\n",
       "    <tr>\n",
       "      <th>...</th>\n",
       "      <td>...</td>\n",
       "      <td>...</td>\n",
       "      <td>...</td>\n",
       "    </tr>\n",
       "    <tr>\n",
       "      <th>277</th>\n",
       "      <td>2014</td>\n",
       "      <td>au</td>\n",
       "      <td>2197.214286</td>\n",
       "    </tr>\n",
       "    <tr>\n",
       "      <th>278</th>\n",
       "      <td>2014</td>\n",
       "      <td>ca</td>\n",
       "      <td>789.377778</td>\n",
       "    </tr>\n",
       "    <tr>\n",
       "      <th>279</th>\n",
       "      <td>2014</td>\n",
       "      <td>de</td>\n",
       "      <td>3720.000000</td>\n",
       "    </tr>\n",
       "    <tr>\n",
       "      <th>280</th>\n",
       "      <td>2014</td>\n",
       "      <td>gb</td>\n",
       "      <td>8366.761905</td>\n",
       "    </tr>\n",
       "    <tr>\n",
       "      <th>281</th>\n",
       "      <td>2014</td>\n",
       "      <td>us</td>\n",
       "      <td>782.372979</td>\n",
       "    </tr>\n",
       "  </tbody>\n",
       "</table>\n",
       "<p>282 rows × 3 columns</p>\n",
       "</div>"
      ],
      "text/plain": [
       "     year country  encounter_seconds\n",
       "0    1910      us         120.000000\n",
       "1    1920      us          60.000000\n",
       "2    1925      us          60.000000\n",
       "3    1929      us          60.000000\n",
       "4    1931      us         930.000000\n",
       "..    ...     ...                ...\n",
       "277  2014      au        2197.214286\n",
       "278  2014      ca         789.377778\n",
       "279  2014      de        3720.000000\n",
       "280  2014      gb        8366.761905\n",
       "281  2014      us         782.372979\n",
       "\n",
       "[282 rows x 3 columns]"
      ]
     },
     "execution_count": 54,
     "metadata": {},
     "output_type": "execute_result"
    }
   ],
   "source": [
    "x=ufo_vars.groupby(['year', 'country'], as_index=False)\n",
    "x.agg('encounter_seconds').mean()"
   ]
  },
  {
   "cell_type": "markdown",
   "metadata": {
    "colab_type": "text",
    "id": "NdC2B8XSx9dd"
   },
   "source": [
    "# BONUS 2: Which months are the ones with the highest numbers of occurrences?\n",
    "\n",
    "**Example of output:**\n",
    "\n",
    ">\n",
    ">|   month |   occurrences |\n",
    "|--------:|--------------:|\n",
    "|       7 |          9520 |\n",
    "|       8 |          8636 |\n",
    "|       6 |          8152 |\n",
    "|       9 |          7589 |\n",
    "|      10 |          7407 |\n",
    "|      11 |          6739 |\n",
    "|       1 |          5689 |\n",
    "|      12 |          5665 |\n",
    "|       4 |          5527 |\n",
    "|       3 |          5450 |\n",
    "|       5 |          5293 |\n",
    "|       2 |          4665 |"
   ]
  },
  {
   "cell_type": "code",
   "execution_count": null,
   "metadata": {
    "colab": {},
    "colab_type": "code",
    "id": "z5XD5vfbx9de",
    "scrolled": true
   },
   "outputs": [],
   "source": [
    "#como limpar casas decimais\n",
    "#pd.set_option('display.float_format','{:.3f}'.format)\n",
    "#f=numero de casas decimais"
   ]
  },
  {
   "cell_type": "markdown",
   "metadata": {
    "colab_type": "text",
    "id": "GQ6mdn8Yx9di"
   },
   "source": [
    "# BONUS 3: Finally, you gathered information about the UFO dataset. Using your last result, try to bring that information for your original dataset."
   ]
  },
  {
   "cell_type": "markdown",
   "metadata": {
    "colab_type": "text",
    "id": "np9EAVOkx9dk"
   },
   "source": [
    "1. Store the results of your previous analysis (the mean value for the encounter_seconds for each year and each country) in a dataframe called `avg_results`. \n",
    "\n",
    "Expected output:\n",
    ">\n",
    ">|     | country   |   year |   encounter_seconds |\n",
    "|----:|:----------|-------:|--------------------:|\n",
    "|   0 | au        |   1958 |      2700           |\n",
    "|   1 | au        |   1960 |       180           |\n",
    "|   2 | au        |   1967 |       300           |\n",
    "|   3 | au        |   1968 |       300           |\n",
    "|   4 | au        |   1972 |       403.333       | \n",
    "|   ... | ...        |   ... |       ...       | \n",
    "| 277 | us        |   2010 |      2271.99        |\n",
    "| 278 | us        |   2011 |      2544.29        |\n",
    "| 279 | us        |   2012 |     10640.6         |\n",
    "| 280 | us        |   2013 |      1266.39        |\n",
    "| 281 | us        |   2014 |       782.373       |"
   ]
  },
  {
   "cell_type": "code",
   "execution_count": null,
   "metadata": {
    "colab": {},
    "colab_type": "code",
    "id": "i03RCsL2x9dl"
   },
   "outputs": [],
   "source": []
  },
  {
   "cell_type": "markdown",
   "metadata": {
    "colab_type": "text",
    "id": "4Z4irKbTx9du"
   },
   "source": [
    "2. Rename the column named `encounter_seconds` to `avg_encounter_seconds`.\n",
    "\n",
    "Expected output:\n",
    ">\n",
    ">|     | country   |   year |   avg_encounter_seconds |\n",
    "|----:|:----------|-------:|--------------------:|\n",
    "|   0 | au        |   1958 |      2700           |\n",
    "|   1 | au        |   1960 |       180           |\n",
    "|   2 | au        |   1967 |       300           |\n",
    "|   3 | au        |   1968 |       300           |\n",
    "|   4 | au        |   1972 |       403.333       | \n",
    "|   ... | ...        |   ... |       ...       | \n",
    "| 277 | us        |   2010 |      2271.99        |\n",
    "| 278 | us        |   2011 |      2544.29        |\n",
    "| 279 | us        |   2012 |     10640.6         |\n",
    "| 280 | us        |   2013 |      1266.39        |\n",
    "| 281 | us        |   2014 |       782.373       |"
   ]
  },
  {
   "cell_type": "code",
   "execution_count": null,
   "metadata": {
    "colab": {},
    "colab_type": "code",
    "id": "gfy3E3JEx9dv"
   },
   "outputs": [],
   "source": []
  },
  {
   "cell_type": "markdown",
   "metadata": {
    "colab_type": "text",
    "id": "2Ves_3nCx9d1"
   },
   "source": [
    "3. Use the pd.merge( ... ) function to bring that new collected information to your original dataset.\n",
    "The pd.merge() function requires several arguments, let's understand the most important ones.\n",
    "\n",
    "`left` is the dataframe you want to bring information **to** - the table on the left. \n",
    "\n",
    "`right` is the dataframe you want to bring information **from** - the table on the right. \n",
    "\n",
    "`on` is the key you want to perform the merge. That is, if those values are **exactly equal** in both dataframes, then the information will be brought.\n",
    "\n",
    "Put your results on a dataframe called `merged_ufo`"
   ]
  },
  {
   "cell_type": "code",
   "execution_count": null,
   "metadata": {
    "colab": {},
    "colab_type": "code",
    "id": "g3gEZOmVx9d2",
    "scrolled": true
   },
   "outputs": [],
   "source": []
  },
  {
   "cell_type": "markdown",
   "metadata": {
    "colab_type": "text",
    "id": "mO4npNiXx9d-"
   },
   "source": [
    "Check how many rows the final result has and try to explain it. Did the dataset get smaller? Bigger? Or the same? Can you explain why? \n",
    "\n",
    "*hint: If you've found something weird, try looking back at your original dataframe and find something interesting on it.*"
   ]
  },
  {
   "cell_type": "code",
   "execution_count": null,
   "metadata": {
    "colab": {},
    "colab_type": "code",
    "id": "bifJ3x51x9d_"
   },
   "outputs": [],
   "source": []
  },
  {
   "cell_type": "markdown",
   "metadata": {
    "colab_type": "text",
    "id": "EfJzDYiIx9eF"
   },
   "source": [
    "## Store the results into a new csv file called `ufo_enriched.csv`. \n",
    "\n",
    "Don't forget to use `index=False`."
   ]
  },
  {
   "cell_type": "code",
   "execution_count": null,
   "metadata": {
    "colab": {},
    "colab_type": "code",
    "id": "rH8fo4Fdx9eG"
   },
   "outputs": [],
   "source": []
  }
 ],
 "metadata": {
  "colab": {
   "collapsed_sections": [],
   "name": "[challenge-2] lab-data-manipulation-part2.ipynb",
   "provenance": []
  },
  "kernelspec": {
   "display_name": "Python 3",
   "language": "python",
   "name": "python3"
  },
  "language_info": {
   "codemirror_mode": {
    "name": "ipython",
    "version": 3
   },
   "file_extension": ".py",
   "mimetype": "text/x-python",
   "name": "python",
   "nbconvert_exporter": "python",
   "pygments_lexer": "ipython3",
   "version": "3.8.5"
  },
  "toc": {
   "base_numbering": 1,
   "nav_menu": {},
   "number_sections": true,
   "sideBar": true,
   "skip_h1_title": false,
   "title_cell": "Table of Contents",
   "title_sidebar": "Contents",
   "toc_cell": false,
   "toc_position": {},
   "toc_section_display": true,
   "toc_window_display": false
  },
  "varInspector": {
   "cols": {
    "lenName": 16,
    "lenType": 16,
    "lenVar": 40
   },
   "kernels_config": {
    "python": {
     "delete_cmd_postfix": "",
     "delete_cmd_prefix": "del ",
     "library": "var_list.py",
     "varRefreshCmd": "print(var_dic_list())"
    },
    "r": {
     "delete_cmd_postfix": ") ",
     "delete_cmd_prefix": "rm(",
     "library": "var_list.r",
     "varRefreshCmd": "cat(var_dic_list()) "
    }
   },
   "types_to_exclude": [
    "module",
    "function",
    "builtin_function_or_method",
    "instance",
    "_Feature"
   ],
   "window_display": false
  }
 },
 "nbformat": 4,
 "nbformat_minor": 1
}
