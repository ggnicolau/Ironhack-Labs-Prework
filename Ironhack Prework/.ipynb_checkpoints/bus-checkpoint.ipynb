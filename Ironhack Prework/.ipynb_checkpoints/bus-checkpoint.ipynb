{
 "cells": [
  {
   "cell_type": "markdown",
   "metadata": {},
   "source": [
    "<img src=\"https://bit.ly/2VnXWr2\" width=\"100\" align=\"left\">"
   ]
  },
  {
   "cell_type": "markdown",
   "metadata": {},
   "source": [
    "# Bus\n",
    "\n",
    "This bus has a passenger entry and exit control system to monitor the number of occupants it carries and thus detect when there are too many.\n",
    "\n",
    "At each stop, the entry and exit of passengers is represented by a tuple consisting of two integer numbers.\n",
    "```\n",
    "bus_stop = (in, out)\n",
    "```\n",
    "The succession of stops is represented by a list of these tuples.\n",
    "```\n",
    "stops = [(in1, out1), (in2, out2), (in3, out3), (in4, out4)]\n",
    "```\n",
    "\n",
    "## Tools\n",
    "You don't necessarily need to use all the tools. Maybe you opt to use some of them or completely different ones, they are given to help you shape the exercise. Programming exercises can be solved in many different ways.\n",
    "* Data structures: **lists, tuples**\n",
    "* Loop: **while/for loops**\n",
    "* Functions: **min, max, len**\n",
    "\n",
    "## Tasks"
   ]
  },
  {
   "cell_type": "code",
   "execution_count": 4,
   "metadata": {},
   "outputs": [],
   "source": [
    "# Variables\n",
    "stops = [(10, 0), (4, 1), (3, 5), (3, 4), (5, 1), (1, 5), (5, 8), (4, 6), (2, 3)]"
   ]
  },
  {
   "cell_type": "markdown",
   "metadata": {},
   "source": [
    "#### 1. Calculate the number of stops."
   ]
  },
  {
   "cell_type": "code",
   "execution_count": 6,
   "metadata": {},
   "outputs": [
    {
     "data": {
      "text/plain": [
       "9"
      ]
     },
     "execution_count": 6,
     "metadata": {},
     "output_type": "execute_result"
    }
   ],
   "source": [
    "len(stops)"
   ]
  },
  {
   "cell_type": "markdown",
   "metadata": {},
   "source": [
    "#### 2. Assign to a variable a list whose elements are the number of passengers at each stop (in-out).\n",
    "Each item depends on the previous item in the list + in - out."
   ]
  },
  {
   "cell_type": "code",
   "execution_count": 8,
   "metadata": {},
   "outputs": [
    {
     "name": "stdout",
     "output_type": "stream",
     "text": [
      "total of stops 9\n",
      "stop 1\n",
      "[10, 0]\n",
      "bus still in transit.\n",
      "stop 2\n",
      "[4, 1]\n",
      "bus still in transit.\n",
      "stop 3\n",
      "[3, 5]\n",
      "bus still in transit.\n",
      "stop 4\n",
      "[3, 4]\n",
      "bus still in transit.\n",
      "stop 5\n",
      "[5, 1]\n",
      "bus still in transit.\n",
      "stop 6\n",
      "[1, 5]\n",
      "bus still in transit.\n",
      "stop 7\n",
      "[5, 8]\n",
      "bus still in transit.\n",
      "stop 8\n",
      "[4, 6]\n",
      "bus still in transit.\n",
      "stop 9\n",
      "[2, 3]\n",
      "end of itinerary, please descend.\n",
      "bus occupation = [10, 13, 11, 10, 14, 10, 7, 5, 4]\n",
      "maximum occupation of the bus is 14 persons\n"
     ]
    }
   ],
   "source": [
    "bus_occupation=0\n",
    "a=0\n",
    "stops = [(10, 0), (4, 1), (3, 5), (3, 4), (5, 1), (1, 5), (5, 8), (4, 6), (2, 3)]\n",
    "nested = [[10, 0], [4, 1], [3, 5], [3, 4], [5, 1], [1, 5], [5, 8], [4, 6], [2, 3]] \n",
    "print(\"total of stops\", len(stops))\n",
    "list =[]\n",
    "\n",
    "for i in range(len(nested)):\n",
    "    print(\"stop\", i+1)\n",
    "    print(nested[i])    \n",
    "    bus_occupation=bus_occupation+nested[a][0]-nested[a][1]\n",
    "    a= a+1\n",
    "    list.append(bus_occupation)\n",
    "    \n",
    "    if i<8:\n",
    "        print(\"bus still in transit.\")\n",
    "    else:\n",
    "        print(\"end of itinerary, please descend.\")\n",
    "print(\"bus occupation =\", list)\n",
    "\n",
    "max(list)\n",
    "print(\"maximum occupation of the bus is\" , max(list), \"persons\")\n",
    "\n",
    "\n",
    "\n",
    "    \n"
   ]
  },
  {
   "cell_type": "markdown",
   "metadata": {},
   "source": [
    "#### 3. Find the maximum occupation of the bus."
   ]
  },
  {
   "cell_type": "code",
   "execution_count": 5,
   "metadata": {},
   "outputs": [
    {
     "name": "stdout",
     "output_type": "stream",
     "text": [
      "maximum occupation of the bus is 14 persons\n"
     ]
    }
   ],
   "source": [
    "max(list)\n",
    "print(\"maximum occupation of the bus is\" , max(list), \"persons\")"
   ]
  },
  {
   "cell_type": "markdown",
   "metadata": {},
   "source": [
    "#### 4. Calculate the average occupation. And the standard deviation."
   ]
  },
  {
   "cell_type": "code",
   "execution_count": 6,
   "metadata": {},
   "outputs": [
    {
     "name": "stdout",
     "output_type": "stream",
     "text": [
      "the average occupation is 9.333333333333334\n"
     ]
    }
   ],
   "source": [
    "a = sum(list)/len(list)\n",
    "print(\"the average occupation is\", a)"
   ]
  },
  {
   "cell_type": "code",
   "execution_count": 7,
   "metadata": {},
   "outputs": [
    {
     "name": "stdout",
     "output_type": "stream",
     "text": [
      "[1, 2]\n",
      "[3, 4, 5]\n",
      "[6, 7]\n",
      "[8]\n",
      "9\n",
      "7\n"
     ]
    }
   ],
   "source": [
    "nested = [[1,2],[3,4,5],[6,7],[8],9]\n",
    "print(nested[0])\n",
    "print(nested[1])\n",
    "print(nested[2])\n",
    "print(nested[3])\n",
    "print(nested[4])\n",
    "print(nested[2][1])"
   ]
  },
  {
   "cell_type": "code",
   "execution_count": 21,
   "metadata": {},
   "outputs": [
    {
     "name": "stdout",
     "output_type": "stream",
     "text": [
      "choose your hand:5\n",
      "choose your hand:8\n",
      "choose your hand:1\n"
     ]
    }
   ],
   "source": [
    "\n",
    "    \n"
   ]
  },
  {
   "cell_type": "code",
   "execution_count": null,
   "metadata": {},
   "outputs": [],
   "source": []
  },
  {
   "cell_type": "code",
   "execution_count": null,
   "metadata": {},
   "outputs": [],
   "source": []
  }
 ],
 "metadata": {
  "kernelspec": {
   "display_name": "Python 3",
   "language": "python",
   "name": "python3"
  },
  "language_info": {
   "codemirror_mode": {
    "name": "ipython",
    "version": 3
   },
   "file_extension": ".py",
   "mimetype": "text/x-python",
   "name": "python",
   "nbconvert_exporter": "python",
   "pygments_lexer": "ipython3",
   "version": "3.8.5"
  }
 },
 "nbformat": 4,
 "nbformat_minor": 2
}
